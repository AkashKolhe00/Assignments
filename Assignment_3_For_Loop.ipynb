{
 "cells": [
  {
   "cell_type": "markdown",
   "id": "ae69ed22-251a-45ed-8872-7157970c1ec5",
   "metadata": {},
   "source": [
    "Assignment-For Loop "
   ]
  },
  {
   "cell_type": "markdown",
   "id": "86b73a5b-97ae-4d2c-99c6-86942ea6fbd0",
   "metadata": {},
   "source": [
    "Basic Level:"
   ]
  },
  {
   "cell_type": "markdown",
   "id": "9f0b992a-7e4c-4693-8ad7-ba876a58e073",
   "metadata": {},
   "source": [
    "1. Write a Python program to print the numbers from 1 to 10 using a `for` loop."
   ]
  },
  {
   "cell_type": "code",
   "execution_count": 1,
   "id": "095d2b68-5aff-4c12-b59d-a86c57e0b693",
   "metadata": {},
   "outputs": [
    {
     "name": "stdout",
     "output_type": "stream",
     "text": [
      "1\n",
      "2\n",
      "3\n",
      "4\n",
      "5\n",
      "6\n",
      "7\n",
      "8\n",
      "9\n",
      "10\n"
     ]
    }
   ],
   "source": [
    "for i in range(1,11):\n",
    "    print(i)"
   ]
  },
  {
   "cell_type": "markdown",
   "id": "35a1698a-989e-43fd-81de-bca1f12d345c",
   "metadata": {},
   "source": [
    "2. Create a program that calculates the sum of all numbers in a list using a `for` loop."
   ]
  },
  {
   "cell_type": "code",
   "execution_count": 2,
   "id": "a7c3069b-728c-4fbb-a592-02baae420411",
   "metadata": {},
   "outputs": [
    {
     "name": "stdout",
     "output_type": "stream",
     "text": [
      "34\n"
     ]
    }
   ],
   "source": [
    "l=[5,6,9,2,4,8]\n",
    "count = 0\n",
    "for i in l:\n",
    "    count = i+count\n",
    "\n",
    "print(count)"
   ]
  },
  {
   "cell_type": "markdown",
   "id": "ebbba2c0-c5fd-416f-81e9-02bb13a69912",
   "metadata": {},
   "source": [
    "3. Write a program to print the characters of a string in reverse order using a `for` loop."
   ]
  },
  {
   "cell_type": "code",
   "execution_count": 10,
   "id": "b2450295-bbf3-47b9-9e9c-c704944b316b",
   "metadata": {},
   "outputs": [
    {
     "name": "stdout",
     "output_type": "stream",
     "text": [
      "margorp\n"
     ]
    }
   ],
   "source": [
    "my_string=\"program\"\n",
    "index = -1\n",
    "rev_string = \"\"\n",
    "for i in my_string:\n",
    "    rev_string += my_string[index]\n",
    "    index -= 1\n",
    "\n",
    "print(rev_string)"
   ]
  },
  {
   "cell_type": "markdown",
   "id": "9d63cfb7-f5be-42cd-9544-61070fa841e7",
   "metadata": {},
   "source": [
    "4. Develop a program that finds the factorial of a given number using a `for` loop."
   ]
  },
  {
   "cell_type": "code",
   "execution_count": 6,
   "id": "8bce1f2e-4f2e-48fa-ae93-958be6327642",
   "metadata": {},
   "outputs": [
    {
     "data": {
      "text/plain": [
       "6"
      ]
     },
     "execution_count": 6,
     "metadata": {},
     "output_type": "execute_result"
    }
   ],
   "source": [
    "def fact(n):\n",
    "    result = 1\n",
    "    for i in range(1,n+1):\n",
    "        result = result*i\n",
    "    return result\n",
    "\n",
    "fact(3)"
   ]
  },
  {
   "cell_type": "markdown",
   "id": "c683086f-95bf-49bf-afe9-d51c9ff36ea4",
   "metadata": {},
   "source": [
    "5. Create a program to print the multiplication table of a given number using a `for` loop."
   ]
  },
  {
   "cell_type": "code",
   "execution_count": 11,
   "id": "f14287fe-438b-4f94-8f44-e46e00ffcac3",
   "metadata": {},
   "outputs": [
    {
     "name": "stdout",
     "output_type": "stream",
     "text": [
      "5 X 1 = 5\n",
      "5 X 2 = 10\n",
      "5 X 3 = 15\n",
      "5 X 4 = 20\n",
      "5 X 5 = 25\n",
      "5 X 6 = 30\n",
      "5 X 7 = 35\n",
      "5 X 8 = 40\n",
      "5 X 9 = 45\n",
      "5 X 10 = 50\n"
     ]
    }
   ],
   "source": [
    "def mul_table(n):\n",
    "    \n",
    "    for i in range(1,11):\n",
    "        table = i*n\n",
    "        print(n, \"X\", i, \"=\", table)\n",
    "\n",
    "mul_table(5)"
   ]
  },
  {
   "cell_type": "markdown",
   "id": "d2a09b25-6039-4397-b542-baaf1d121f1e",
   "metadata": {},
   "source": [
    "6. Write a program that counts the number of even and odd numbers in a list using a `for` loop."
   ]
  },
  {
   "cell_type": "code",
   "execution_count": 17,
   "id": "5951c5e2-3b8d-45bb-bacb-3258d80c4273",
   "metadata": {},
   "outputs": [
    {
     "name": "stdout",
     "output_type": "stream",
     "text": [
      "even_count: 7\n",
      "odd_count: 6\n"
     ]
    }
   ],
   "source": [
    "def even_odd_count(my_list):\n",
    "    even_count = 0\n",
    "    odd_count = 0\n",
    "    for i in my_list:\n",
    "        if i%2 == 0:\n",
    "            even_count += 1\n",
    "        else:\n",
    "            odd_count += 1\n",
    "    print(\"even_count:\", even_count, end='\\n')  \n",
    "    print(\"odd_count:\", odd_count)\n",
    "\n",
    "even_odd_count([5,6,8,9,4,1,3,9,54,45,654,64,86])"
   ]
  },
  {
   "cell_type": "markdown",
   "id": "7c274137-fd9c-4541-b13b-86c12d495f4f",
   "metadata": {},
   "source": [
    "7. Develop a program that prints the squares of numbers from 1 to 5 using a `for` loop."
   ]
  },
  {
   "cell_type": "code",
   "execution_count": 18,
   "id": "78f1b06a-1bf0-4af4-9663-6105dd79e02a",
   "metadata": {},
   "outputs": [
    {
     "name": "stdout",
     "output_type": "stream",
     "text": [
      "1\n",
      "4\n",
      "9\n",
      "16\n",
      "25\n"
     ]
    }
   ],
   "source": [
    "def sqr_no(n):\n",
    "    for i in range(1,n+1):\n",
    "        sqr = i**2\n",
    "        print(sqr)\n",
    "\n",
    "sqr_no(5)"
   ]
  },
  {
   "cell_type": "markdown",
   "id": "bab2f17e-43a0-46aa-8371-19818f94dc10",
   "metadata": {},
   "source": [
    "8. Create a program to find the length of a string without using the `len()` function."
   ]
  },
  {
   "cell_type": "code",
   "execution_count": 20,
   "id": "7367582b-af32-4f5f-ab5d-e6bd5df8668b",
   "metadata": {},
   "outputs": [
    {
     "data": {
      "text/plain": [
       "6"
      ]
     },
     "execution_count": 20,
     "metadata": {},
     "output_type": "execute_result"
    }
   ],
   "source": [
    "def without_len(my_string):\n",
    "    count = 0\n",
    "    for i in my_string:\n",
    "        count += 1\n",
    "    return count\n",
    "\n",
    "without_len(\"Python\")"
   ]
  },
  {
   "cell_type": "markdown",
   "id": "4ec5c3d6-14cf-42b9-b9dc-dd835c2c71ad",
   "metadata": {},
   "source": [
    "9. Write a program that calculates the average of a list of numbers using a `for` loop."
   ]
  },
  {
   "cell_type": "code",
   "execution_count": 21,
   "id": "e1681f90-65be-455f-9a6f-7d24f163091e",
   "metadata": {},
   "outputs": [
    {
     "data": {
      "text/plain": [
       "5.0"
      ]
     },
     "execution_count": 21,
     "metadata": {},
     "output_type": "execute_result"
    }
   ],
   "source": [
    "def calc_avg(my_list):\n",
    "    sum = 0\n",
    "    count = 0\n",
    "    for i in my_list:\n",
    "        sum += i\n",
    "        count += 1\n",
    "    return sum/count\n",
    "\n",
    "calc_avg([2,4,6,8])"
   ]
  },
  {
   "cell_type": "markdown",
   "id": "00beb883-4816-437b-8a6a-d59bde9e8c44",
   "metadata": {},
   "source": [
    "10. Develop a program that prints the first `n` Fibonacci numbers using a `for` loop."
   ]
  },
  {
   "cell_type": "code",
   "execution_count": 22,
   "id": "5bec575c-40d0-4153-9306-3e72c604936a",
   "metadata": {},
   "outputs": [
    {
     "data": {
      "text/plain": [
       "[0, 1, 1, 2, 3, 5, 8, 13, 21, 34, 55, 89]"
      ]
     },
     "execution_count": 22,
     "metadata": {},
     "output_type": "execute_result"
    }
   ],
   "source": [
    "def fib(n):\n",
    "    fib_list = [0,1]\n",
    "    for i in range(n):\n",
    "        number = fib_list[-1] + fib_list[-2]\n",
    "        fib_list.append(number)\n",
    "    return fib_list\n",
    "\n",
    "fib(10)"
   ]
  },
  {
   "cell_type": "markdown",
   "id": "27596f3e-195e-47dd-a46e-3baeea2f3cee",
   "metadata": {},
   "source": [
    "Intermediate Level:"
   ]
  },
  {
   "cell_type": "markdown",
   "id": "9a41cd00-4e50-48bb-becd-7f55a4168e75",
   "metadata": {},
   "source": [
    "11. Write a program to check if a given list contains any duplicates using a `for` loop."
   ]
  },
  {
   "cell_type": "code",
   "execution_count": 23,
   "id": "1c0cb694-dcb7-4f21-b2ef-6b74924c26e6",
   "metadata": {},
   "outputs": [
    {
     "name": "stdout",
     "output_type": "stream",
     "text": [
      "It has a duplicate 6\n",
      "It has a duplicate 1\n"
     ]
    }
   ],
   "source": [
    "def for_duplicates(my_list):\n",
    "    empty_list = []\n",
    "    \n",
    "    for i in my_list:\n",
    "        if i in empty_list:\n",
    "            print(\"It has a duplicate\", i)\n",
    "            \n",
    "        empty_list.append(i)\n",
    "\n",
    "for_duplicates([1,6,8,4,9,3,6,1])"
   ]
  },
  {
   "cell_type": "markdown",
   "id": "52d6ce41-5fb1-4e48-9d1f-543fb8afe971",
   "metadata": {},
   "source": [
    "12. Create a program that prints the prime numbers in a given range using a `for` loop."
   ]
  },
  {
   "cell_type": "code",
   "execution_count": 28,
   "id": "4f0d825c-03cc-49bd-9de9-36ff1d2b5d72",
   "metadata": {},
   "outputs": [
    {
     "name": "stdout",
     "output_type": "stream",
     "text": [
      "7\n",
      "11\n",
      "13\n",
      "17\n",
      "19\n",
      "23\n",
      "29\n",
      "31\n",
      "37\n",
      "41\n",
      "43\n",
      "47\n"
     ]
    }
   ],
   "source": [
    "def is_prime(num):\n",
    "    if num <=1:\n",
    "        return False\n",
    "    for i in range (2, int(num**0.5)+1):\n",
    "        if num%i == 0:\n",
    "            return False\n",
    "    return True\n",
    "\n",
    "def prime_in_range(start, end):\n",
    "    for i in range(start, end+1):\n",
    "        if is_prime(i):\n",
    "            print(i, end=\"\\n\")\n",
    "\n",
    "prime_in_range(6,50)"
   ]
  },
  {
   "cell_type": "markdown",
   "id": "ca40fb72-71bf-491b-913e-5b13a9a8f69f",
   "metadata": {},
   "source": [
    "13. Develop a program that counts the number of vowels in a string using a `for` loop."
   ]
  },
  {
   "cell_type": "code",
   "execution_count": 6,
   "id": "e16c3949-7e88-4f1b-bb1e-7557f94a5672",
   "metadata": {},
   "outputs": [
    {
     "data": {
      "text/plain": [
       "7"
      ]
     },
     "execution_count": 6,
     "metadata": {},
     "output_type": "execute_result"
    }
   ],
   "source": [
    "def count_vowels(my_string):\n",
    "    count = 0\n",
    "    for i in my_string:\n",
    "        if i.lower() in['a', 'e', 'i', 'o', 'u']:\n",
    "            count += 1\n",
    "    return count\n",
    "\n",
    "count_vowels(\"Program to count vowels\")"
   ]
  },
  {
   "cell_type": "markdown",
   "id": "3ddb8e11-de25-4b8c-b51d-ee868ea7de7c",
   "metadata": {},
   "source": [
    "14. Write a program to find the maximum element in a 2D list using a nested `for` loop."
   ]
  },
  {
   "cell_type": "code",
   "execution_count": 1,
   "id": "1dd79653-e482-459c-815b-7b1d0cd018d5",
   "metadata": {},
   "outputs": [
    {
     "name": "stdout",
     "output_type": "stream",
     "text": [
      "The maximum element in the matrix is: 9\n"
     ]
    }
   ],
   "source": [
    "def find_max_in_2d_list(matrix):\n",
    "    max_element = matrix[0][0]  \n",
    "\n",
    "    for row in matrix:\n",
    "        for element in row:\n",
    "            if element > max_element:\n",
    "                max_element = element\n",
    "\n",
    "    return max_element\n",
    "matrix = [\n",
    "    [1, 5, 9],\n",
    "    [7, 3, 8],\n",
    "    [4, 6, 2]\n",
    "]\n",
    "\n",
    "max_value = find_max_in_2d_list(matrix)\n",
    "print(\"The maximum element in the matrix is:\", max_value)\n"
   ]
  },
  {
   "cell_type": "markdown",
   "id": "544a0d8c-4982-4989-830f-2efa33bf938d",
   "metadata": {},
   "source": [
    "15. Create a program that removes all occurrences of a specific element from a list using a `for` loop."
   ]
  },
  {
   "cell_type": "code",
   "execution_count": 11,
   "id": "e84025b2-5292-49b6-b113-37e49f814385",
   "metadata": {},
   "outputs": [
    {
     "data": {
      "text/plain": [
       "[5, 9, 6, 3, 2, 7, 8, 5]"
      ]
     },
     "execution_count": 11,
     "metadata": {},
     "output_type": "execute_result"
    }
   ],
   "source": [
    "def remove_element(my_list, element):\n",
    "    new_list = []\n",
    "    for i in my_list:\n",
    "        if i != element:\n",
    "            new_list.append(i)\n",
    "    return new_list\n",
    "\n",
    "remove_element([1,5,9,6,3,2,1,7,8,5], 1)"
   ]
  },
  {
   "cell_type": "markdown",
   "id": "8aa3e922-e257-4d8c-83fc-93890f6f07da",
   "metadata": {},
   "source": [
    "16. Develop a program that generates a multiplication table for numbers from 1 to 5 using a nested `for` loop."
   ]
  },
  {
   "cell_type": "code",
   "execution_count": 15,
   "id": "bc4e588d-f223-48ae-8dd7-f9eb401ca8e2",
   "metadata": {},
   "outputs": [
    {
     "name": "stdout",
     "output_type": "stream",
     "text": [
      "1 X 1 = 1\n",
      "1 X 2 = 2\n",
      "1 X 3 = 3\n",
      "1 X 4 = 4\n",
      "1 X 5 = 5\n",
      "1 X 6 = 6\n",
      "1 X 7 = 7\n",
      "1 X 8 = 8\n",
      "1 X 9 = 9\n",
      "1 X 10 = 10\n",
      "\n",
      "2 X 1 = 2\n",
      "2 X 2 = 4\n",
      "2 X 3 = 6\n",
      "2 X 4 = 8\n",
      "2 X 5 = 10\n",
      "2 X 6 = 12\n",
      "2 X 7 = 14\n",
      "2 X 8 = 16\n",
      "2 X 9 = 18\n",
      "2 X 10 = 20\n",
      "\n",
      "3 X 1 = 3\n",
      "3 X 2 = 6\n",
      "3 X 3 = 9\n",
      "3 X 4 = 12\n",
      "3 X 5 = 15\n",
      "3 X 6 = 18\n",
      "3 X 7 = 21\n",
      "3 X 8 = 24\n",
      "3 X 9 = 27\n",
      "3 X 10 = 30\n",
      "\n",
      "4 X 1 = 4\n",
      "4 X 2 = 8\n",
      "4 X 3 = 12\n",
      "4 X 4 = 16\n",
      "4 X 5 = 20\n",
      "4 X 6 = 24\n",
      "4 X 7 = 28\n",
      "4 X 8 = 32\n",
      "4 X 9 = 36\n",
      "4 X 10 = 40\n",
      "\n",
      "5 X 1 = 5\n",
      "5 X 2 = 10\n",
      "5 X 3 = 15\n",
      "5 X 4 = 20\n",
      "5 X 5 = 25\n",
      "5 X 6 = 30\n",
      "5 X 7 = 35\n",
      "5 X 8 = 40\n",
      "5 X 9 = 45\n",
      "5 X 10 = 50\n",
      "\n"
     ]
    }
   ],
   "source": [
    "def mul_table_range(start, end):\n",
    "    for i in range(start, end+1):\n",
    "        for j in range(1, 11):\n",
    "            result = i*j\n",
    "            print(i, \"X\", j, \"=\", result)\n",
    "        print()\n",
    "\n",
    "mul_table_range(1, 5)"
   ]
  },
  {
   "cell_type": "markdown",
   "id": "a412655e-a7f9-428f-9b87-79234714cab5",
   "metadata": {},
   "source": [
    "17. Write a program that converts a list of Fahrenheit temperatures to Celsius using a `for` loop."
   ]
  },
  {
   "cell_type": "code",
   "execution_count": 17,
   "id": "f7ad9150-b280-45ac-933d-bb72483e6c99",
   "metadata": {},
   "outputs": [
    {
     "data": {
      "text/plain": [
       "[18.333333333333332, 20.0, 267.77777777777777, 1.6666666666666667, 20.0]"
      ]
     },
     "execution_count": 17,
     "metadata": {},
     "output_type": "execute_result"
    }
   ],
   "source": [
    "def convert_temp_to_C(my_list):\n",
    "    converted_list = []\n",
    "    for i in my_list:\n",
    "        C = (i-32)*5/9\n",
    "        converted_list.append(C)\n",
    "    return converted_list\n",
    "\n",
    "convert_temp_to_C([65,68,514,35,68])"
   ]
  },
  {
   "cell_type": "markdown",
   "id": "0121d972-30ae-45b1-ba0f-d8d68e89afdd",
   "metadata": {},
   "source": [
    "18. Create a program to print the common elements from two lists using a `for` loop."
   ]
  },
  {
   "cell_type": "code",
   "execution_count": 20,
   "id": "3b749692-0914-4370-a655-e195d5b33901",
   "metadata": {},
   "outputs": [
    {
     "data": {
      "text/plain": [
       "[56, 415]"
      ]
     },
     "execution_count": 20,
     "metadata": {},
     "output_type": "execute_result"
    }
   ],
   "source": [
    "def common_elements(list_1, list_2):\n",
    "    common_list =[]\n",
    "    for i in list_1:\n",
    "        if i in list_2:\n",
    "            common_list.append(i)\n",
    "    return common_list\n",
    "\n",
    "common_elements([56,658,68,415,3584], [56,86,23,415])"
   ]
  },
  {
   "cell_type": "markdown",
   "id": "dbcea29d-4e90-4cbe-8828-548dcc316879",
   "metadata": {},
   "source": [
    "19. Develop a program that prints the pattern of right-angled triangles using a `for` loop. Use ‘*’ to draw the\n",
    "pattern"
   ]
  },
  {
   "cell_type": "code",
   "execution_count": 26,
   "id": "5df4c19d-187c-4f45-a61d-95a1bbe2d9a0",
   "metadata": {},
   "outputs": [
    {
     "name": "stdout",
     "output_type": "stream",
     "text": [
      "*\n",
      "***\n",
      "*****\n",
      "*******\n",
      "*********\n"
     ]
    }
   ],
   "source": [
    "for i in range(1,10,2):\n",
    "    print(\"*\"*i)"
   ]
  },
  {
   "cell_type": "markdown",
   "id": "63f875c2-218b-4191-875e-c6965201f135",
   "metadata": {},
   "source": [
    "20. Write a program to find the greatest common divisor (GCD) of two numbers using a `for` loop."
   ]
  },
  {
   "cell_type": "code",
   "execution_count": 28,
   "id": "95a6bb2a-5500-4def-b2e4-f8de2a4eb7fe",
   "metadata": {},
   "outputs": [
    {
     "data": {
      "text/plain": [
       "6"
      ]
     },
     "execution_count": 28,
     "metadata": {},
     "output_type": "execute_result"
    }
   ],
   "source": [
    "def find_gcd(a, b):\n",
    "    smaller = min(a, b)\n",
    "    \n",
    "    for i in range(1, smaller+1):\n",
    "        if a%i == 0 and b%i ==0:\n",
    "            gcd = i\n",
    "\n",
    "    return gcd\n",
    "\n",
    "\n",
    "find_gcd(48, 18)"
   ]
  },
  {
   "cell_type": "markdown",
   "id": "bbc631ff-b43f-4bd6-8141-16f40299e39a",
   "metadata": {},
   "source": [
    "Advanced Level:"
   ]
  },
  {
   "cell_type": "markdown",
   "id": "ad9e4a8e-de46-4bff-9915-85f364984a3d",
   "metadata": {},
   "source": [
    "21. Create a program that calculates the sum of the digits of numbers in a list using a list comprehension."
   ]
  },
  {
   "cell_type": "code",
   "execution_count": 2,
   "id": "48ce9877-91a4-44a3-b05b-b479adbde022",
   "metadata": {},
   "outputs": [
    {
     "name": "stdout",
     "output_type": "stream",
     "text": [
      "The sum of the digits for each number is: [6, 15, 24, 2]\n"
     ]
    }
   ],
   "source": [
    "def sum_of_digits(numbers):\n",
    "    return [sum(int(digit) for digit in str(number)) for number in numbers]\n",
    "\n",
    "numbers = [123, 456, 789, 101]\n",
    "sums = sum_of_digits(numbers)\n",
    "print(\"The sum of the digits for each number is:\", sums)\n"
   ]
  },
  {
   "cell_type": "markdown",
   "id": "eb02ef1d-12ac-48e5-a48e-d14b090d7bf3",
   "metadata": {},
   "source": [
    "22. Write a program to find the prime factors of a given number using a `for` loop and list comprehension."
   ]
  },
  {
   "cell_type": "code",
   "execution_count": 3,
   "id": "7642795e-cc9a-4f1e-9db1-0eaab735b1c8",
   "metadata": {},
   "outputs": [
    {
     "name": "stdout",
     "output_type": "stream",
     "text": [
      "The prime factors of 56 are: [2, 2, 2, 7]\n"
     ]
    }
   ],
   "source": [
    "def prime_factors(n):\n",
    "    factors = []\n",
    "    # Check for the number of 2s that divide n\n",
    "    while n % 2 == 0:\n",
    "        factors.append(2)\n",
    "        n //= 2\n",
    "    \n",
    "    # n must be odd at this point so a skip of 2 is done (i.e., i = i + 2)\n",
    "    for i in range(3, int(n**0.5) + 1, 2):\n",
    "        # While i divides n, append i and divide n\n",
    "        while n % i == 0:\n",
    "            factors.append(i)\n",
    "            n //= i\n",
    "    \n",
    "    # If n is a prime number greater than 2, append it to the list\n",
    "    if n > 2:\n",
    "        factors.append(n)\n",
    "    \n",
    "    return factors\n",
    "\n",
    "# Example usage\n",
    "number = 56\n",
    "factors = prime_factors(number)\n",
    "print(f\"The prime factors of {number} are: {factors}\")\n"
   ]
  },
  {
   "cell_type": "markdown",
   "id": "6c6237ab-a702-4fac-86a5-b6f3e856692b",
   "metadata": {},
   "source": [
    "23. Develop a program that extracts unique elements from a list and stores them in a new list using a list\n",
    "comprehension."
   ]
  },
  {
   "cell_type": "code",
   "execution_count": 4,
   "id": "d28941a4-4ec6-4d7e-95e7-4602068de9c0",
   "metadata": {},
   "outputs": [
    {
     "name": "stdout",
     "output_type": "stream",
     "text": [
      "The unique elements in the list are: [1, 2, 3, 4, 5, 6]\n"
     ]
    }
   ],
   "source": [
    "def unique_elements(lst):\n",
    "    return [element for index, element in enumerate(lst) if element not in lst[:index]]\n",
    "\n",
    "# Example usage\n",
    "numbers = [1, 2, 3, 2, 4, 1, 5, 3, 6]\n",
    "unique_list = unique_elements(numbers)\n",
    "print(\"The unique elements in the list are:\", unique_list)\n"
   ]
  },
  {
   "cell_type": "markdown",
   "id": "5c769875-a153-4fbe-b3dc-c65c8897771e",
   "metadata": {},
   "source": [
    "24. Create a program that generates a list of all palindromic numbers up to a specified limit using a list\n",
    "comprehension."
   ]
  },
  {
   "cell_type": "code",
   "execution_count": 5,
   "id": "c62f4d32-3cb7-40bc-9d58-7cd4ec180c9a",
   "metadata": {},
   "outputs": [
    {
     "name": "stdout",
     "output_type": "stream",
     "text": [
      "Palindromic numbers up to 200 are: [0, 1, 2, 3, 4, 5, 6, 7, 8, 9, 11, 22, 33, 44, 55, 66, 77, 88, 99, 101, 111, 121, 131, 141, 151, 161, 171, 181, 191]\n"
     ]
    }
   ],
   "source": [
    "def palindromic_numbers(limit):\n",
    "    return [number for number in range(limit + 1) if str(number) == str(number)[::-1]]\n",
    "\n",
    "# Example usage\n",
    "limit = 200\n",
    "palindromes = palindromic_numbers(limit)\n",
    "print(f\"Palindromic numbers up to {limit} are:\", palindromes)\n"
   ]
  },
  {
   "cell_type": "markdown",
   "id": "317974e8-f6dc-4f1a-a04f-402951f65e8b",
   "metadata": {},
   "source": [
    "25. Write a program to flatten a nested list using list comprehension."
   ]
  },
  {
   "cell_type": "code",
   "execution_count": 6,
   "id": "55de98b3-00f9-4c2d-b40e-2f710242a155",
   "metadata": {},
   "outputs": [
    {
     "name": "stdout",
     "output_type": "stream",
     "text": [
      "The flattened list is: [1, 2, 3, 4, 5, 6, 7, 8, 9]\n"
     ]
    }
   ],
   "source": [
    "def flatten_list(nested_list):\n",
    "    return [item for sublist in nested_list for item in sublist]\n",
    "\n",
    "# Example usage\n",
    "nested_list = [[1, 2, 3], [4, 5], [6, 7, 8, 9]]\n",
    "flattened_list = flatten_list(nested_list)\n",
    "print(\"The flattened list is:\", flattened_list)\n"
   ]
  },
  {
   "cell_type": "markdown",
   "id": "de2aefd5-7f43-459d-9d62-ffed8196f8d1",
   "metadata": {},
   "source": [
    "26. Develop a program that computes the sum of even and odd numbers in a list separately using list\n",
    "comprehension."
   ]
  },
  {
   "cell_type": "code",
   "execution_count": 7,
   "id": "bf7de56a-30ad-4c7c-933b-ee1ed08e492b",
   "metadata": {},
   "outputs": [
    {
     "name": "stdout",
     "output_type": "stream",
     "text": [
      "Sum of even numbers: 30\n",
      "Sum of odd numbers: 25\n"
     ]
    }
   ],
   "source": [
    "def sum_even_odd(numbers):\n",
    "    even_sum = sum([num for num in numbers if num % 2 == 0])\n",
    "    odd_sum = sum([num for num in numbers if num % 2 != 0])\n",
    "    return even_sum, odd_sum\n",
    "\n",
    "# Example usage\n",
    "numbers = [1, 2, 3, 4, 5, 6, 7, 8, 9, 10]\n",
    "even_sum, odd_sum = sum_even_odd(numbers)\n",
    "print(\"Sum of even numbers:\", even_sum)\n",
    "print(\"Sum of odd numbers:\", odd_sum)\n"
   ]
  },
  {
   "cell_type": "markdown",
   "id": "7564fb10-ae35-4a0c-9b16-ae8ad4c18a67",
   "metadata": {},
   "source": [
    "27. Create a program that generates a list of squares of odd numbers between 1 and 10 using list\n",
    "comprehension."
   ]
  },
  {
   "cell_type": "code",
   "execution_count": 8,
   "id": "d0af44ac-eb49-4c0e-aea7-f5441cd01819",
   "metadata": {},
   "outputs": [
    {
     "name": "stdout",
     "output_type": "stream",
     "text": [
      "Squares of odd numbers between 1 and 10: [1, 9, 25, 49, 81]\n"
     ]
    }
   ],
   "source": [
    "def squares_of_odd_numbers():\n",
    "    return [num ** 2 for num in range(1, 11) if num % 2 != 0]\n",
    "\n",
    "# Example usage\n",
    "squares = squares_of_odd_numbers()\n",
    "print(\"Squares of odd numbers between 1 and 10:\", squares)\n"
   ]
  },
  {
   "cell_type": "markdown",
   "id": "1c1ba96b-b871-4dc1-a4cb-a5b9dd03d42d",
   "metadata": {},
   "source": [
    "28. Write a program that combines two lists into a dictionary using list comprehension."
   ]
  },
  {
   "cell_type": "code",
   "execution_count": 9,
   "id": "484322d7-90fe-4e6c-b59e-5bedeebaea2d",
   "metadata": {},
   "outputs": [
    {
     "name": "stdout",
     "output_type": "stream",
     "text": [
      "Combined dictionary: {'name': 'Alice', 'age': 30, 'city': 'New York'}\n"
     ]
    }
   ],
   "source": [
    "def combine_lists_to_dict(keys, values):\n",
    "    return {keys[i]: values[i] for i in range(min(len(keys), len(values)))}\n",
    "\n",
    "# Example usage\n",
    "keys = ['name', 'age', 'city']\n",
    "values = ['Alice', 30, 'New York']\n",
    "combined_dict = combine_lists_to_dict(keys, values)\n",
    "print(\"Combined dictionary:\", combined_dict)\n",
    "\n"
   ]
  },
  {
   "cell_type": "markdown",
   "id": "334f8ad2-4fdc-4c99-b1f0-a6ce3300f985",
   "metadata": {},
   "source": [
    "29. Develop a program that extracts the vowels from a string and stores them in a list using list comprehension."
   ]
  },
  {
   "cell_type": "code",
   "execution_count": 10,
   "id": "159834f0-cc8a-40ab-b1df-30aed983cdb3",
   "metadata": {},
   "outputs": [
    {
     "name": "stdout",
     "output_type": "stream",
     "text": [
      "Extracted vowels: ['e', 'o', 'o']\n"
     ]
    }
   ],
   "source": [
    "def extract_vowels(s):\n",
    "    vowels = \"aeiouAEIOU\"\n",
    "    return [char for char in s if char in vowels]\n",
    "\n",
    "# Example usage\n",
    "input_string = \"Hello, World!\"\n",
    "vowel_list = extract_vowels(input_string)\n",
    "print(\"Extracted vowels:\", vowel_list)\n"
   ]
  },
  {
   "cell_type": "markdown",
   "id": "8c8f339e-d522-4da7-a9e2-1b42dce79c3e",
   "metadata": {},
   "source": [
    "30. Create a program that removes all non-numeric characters from a list of strings using list comprehension."
   ]
  },
  {
   "cell_type": "code",
   "execution_count": 11,
   "id": "d9f01906-cc9b-41bf-95b8-ab7f8d829feb",
   "metadata": {},
   "outputs": [
    {
     "name": "stdout",
     "output_type": "stream",
     "text": [
      "List after removing non-numeric characters: ['123', '456', '789', '123']\n"
     ]
    }
   ],
   "source": [
    "def remove_non_numeric(strings):\n",
    "    return [''.join([char for char in s if char.isdigit()]) for s in strings]\n",
    "\n",
    "# Example usage\n",
    "string_list = [\"abc123\", \"456def\", \"789!@#\", \"hello123world\"]\n",
    "cleaned_list = remove_non_numeric(string_list)\n",
    "print(\"List after removing non-numeric characters:\", cleaned_list)\n"
   ]
  },
  {
   "cell_type": "markdown",
   "id": "cf1069eb-d350-4f6b-bebe-abfa7ae159dc",
   "metadata": {},
   "source": [
    "Challenge Level:"
   ]
  },
  {
   "cell_type": "markdown",
   "id": "f0f87f26-8aef-419a-87a9-170f1b314cae",
   "metadata": {},
   "source": [
    "31. Write a program to generate a list of prime numbers using the Sieve of Eratosthenes algorithm and list\n",
    "comprehension."
   ]
  },
  {
   "cell_type": "code",
   "execution_count": 12,
   "id": "3ba7a79c-ab30-4bb8-b5e1-347805eaf470",
   "metadata": {},
   "outputs": [
    {
     "name": "stdout",
     "output_type": "stream",
     "text": [
      "Prime numbers up to 50 are: [2, 3, 5, 7, 11, 13, 17, 19, 23, 29, 31, 37, 41, 43, 47]\n"
     ]
    }
   ],
   "source": [
    "def sieve_of_eratosthenes(limit):\n",
    "    # Initialize a boolean array \"prime[0..limit]\" and set all entries to True.\n",
    "    primes = [True] * (limit + 1)\n",
    "    p = 2\n",
    "    \n",
    "    while (p * p <= limit):\n",
    "        # If primes[p] is not changed, then it is a prime\n",
    "        if primes[p] == True:\n",
    "            # Updating all multiples of p to not prime\n",
    "            for i in range(p * p, limit + 1, p):\n",
    "                primes[i] = False\n",
    "        p += 1\n",
    "    \n",
    "    # Collecting all prime numbers\n",
    "    return [p for p in range(2, limit + 1) if primes[p]]\n",
    "\n",
    "# Example usage\n",
    "limit = 50\n",
    "prime_numbers = sieve_of_eratosthenes(limit)\n",
    "print(\"Prime numbers up to\", limit, \"are:\", prime_numbers)\n"
   ]
  },
  {
   "cell_type": "markdown",
   "id": "43603c35-b584-40fe-a307-28eb57895961",
   "metadata": {},
   "source": [
    "32. Create a program that generates a list of all Pythagorean triplets up to a specified limit using list\n",
    "comprehension."
   ]
  },
  {
   "cell_type": "code",
   "execution_count": 13,
   "id": "8c651579-d392-49f2-ba37-d669b26a9346",
   "metadata": {},
   "outputs": [
    {
     "name": "stdout",
     "output_type": "stream",
     "text": [
      "Pythagorean triplets up to 30 are: [(3, 4, 5), (5, 12, 13), (6, 8, 10), (7, 24, 25), (8, 15, 17), (9, 12, 15), (10, 24, 26), (12, 16, 20), (15, 20, 25), (18, 24, 30), (20, 21, 29)]\n"
     ]
    }
   ],
   "source": [
    "def generate_pythagorean_triplets(limit):\n",
    "    return [(a, b, c) \n",
    "            for a in range(1, limit + 1) \n",
    "            for b in range(a, limit + 1) \n",
    "            for c in range(b, limit + 1) \n",
    "            if a**2 + b**2 == c**2]\n",
    "\n",
    "# Example usage\n",
    "limit = 30\n",
    "triplets = generate_pythagorean_triplets(limit)\n",
    "print(\"Pythagorean triplets up to\", limit, \"are:\", triplets)\n"
   ]
  },
  {
   "cell_type": "markdown",
   "id": "c9b62c4c-565a-4bee-b327-efc617047ed4",
   "metadata": {},
   "source": [
    "33. Develop a program that generates a list of all possible combinations of two lists using list comprehension."
   ]
  },
  {
   "cell_type": "code",
   "execution_count": 14,
   "id": "d573bc12-25fd-441e-a4e1-6f6dbbc783fa",
   "metadata": {},
   "outputs": [
    {
     "name": "stdout",
     "output_type": "stream",
     "text": [
      "All possible combinations are: [(1, 'a'), (1, 'b'), (1, 'c'), (2, 'a'), (2, 'b'), (2, 'c'), (3, 'a'), (3, 'b'), (3, 'c')]\n"
     ]
    }
   ],
   "source": [
    "def generate_combinations(list1, list2):\n",
    "    return [(x, y) for x in list1 for y in list2]\n",
    "\n",
    "# Example usage\n",
    "list1 = [1, 2, 3]\n",
    "list2 = ['a', 'b', 'c']\n",
    "combinations = generate_combinations(list1, list2)\n",
    "print(\"All possible combinations are:\", combinations)\n"
   ]
  },
  {
   "cell_type": "markdown",
   "id": "6aabb15b-98f8-464a-aee8-08245bf6b47e",
   "metadata": {},
   "source": [
    "34. Write a program that calculates the mean, median, and mode of a list of numbers using list\n",
    "comprehension."
   ]
  },
  {
   "cell_type": "code",
   "execution_count": 15,
   "id": "176f5068-b256-4007-a802-eabc43e80601",
   "metadata": {},
   "outputs": [
    {
     "name": "stdout",
     "output_type": "stream",
     "text": [
      "Mean: 3.4444444444444446\n",
      "Median: 4\n",
      "Mode: [4]\n"
     ]
    }
   ],
   "source": [
    "from collections import Counter\n",
    "import statistics\n",
    "\n",
    "def calculate_statistics(numbers):\n",
    "    # Mean\n",
    "    mean = sum(numbers) / len(numbers)\n",
    "    \n",
    "    # Median\n",
    "    sorted_numbers = sorted(numbers)\n",
    "    n = len(sorted_numbers)\n",
    "    median = (sorted_numbers[n // 2] if n % 2 != 0 else \n",
    "              (sorted_numbers[n // 2 - 1] + sorted_numbers[n // 2]) / 2)\n",
    "    \n",
    "    # Mode\n",
    "    count = Counter(numbers)\n",
    "    max_count = max(count.values())\n",
    "    mode = [k for k, v in count.items() if v == max_count]\n",
    "    \n",
    "    return mean, median, mode\n",
    "\n",
    "# Example usage\n",
    "numbers = [1, 2, 2, 3, 4, 4, 4, 5, 6]\n",
    "mean, median, mode = calculate_statistics(numbers)\n",
    "print(\"Mean:\", mean)\n",
    "print(\"Median:\", median)\n",
    "print(\"Mode:\", mode)\n"
   ]
  },
  {
   "cell_type": "markdown",
   "id": "de5c4ca2-d85d-4c5c-ad51-7e0f63d6bd4f",
   "metadata": {},
   "source": [
    "35. Create a program that generates Pascal's triangle up to a specified number of rows using list\n",
    "comprehension."
   ]
  },
  {
   "cell_type": "code",
   "execution_count": 16,
   "id": "f5e35983-54ba-47d6-8515-40ad8bb31b2b",
   "metadata": {},
   "outputs": [
    {
     "name": "stdout",
     "output_type": "stream",
     "text": [
      "[1]\n",
      "[1, 1]\n",
      "[1, 2, 1]\n",
      "[1, 3, 3, 1]\n",
      "[1, 4, 6, 4, 1]\n"
     ]
    }
   ],
   "source": [
    "def generate_pascals_triangle(n):\n",
    "    triangle = [[1] * (i + 1) for i in range(n)]\n",
    "    \n",
    "    for i in range(2, n):\n",
    "        for j in range(1, i):\n",
    "            triangle[i][j] = triangle[i - 1][j - 1] + triangle[i - 1][j]\n",
    "    \n",
    "    return triangle\n",
    "\n",
    "# Example usage\n",
    "num_rows = 5\n",
    "pascals_triangle = generate_pascals_triangle(num_rows)\n",
    "for row in pascals_triangle:\n",
    "    print(row)\n"
   ]
  },
  {
   "cell_type": "markdown",
   "id": "f45be840-f545-4a64-bcdd-afcb47c56760",
   "metadata": {},
   "source": [
    "36. Develop a program that calculates the sum of the digits of a factorial of numbers from 1 to 5 using list\n",
    "comprehension."
   ]
  },
  {
   "cell_type": "code",
   "execution_count": 17,
   "id": "73435cde-b59f-4ceb-86c7-ea91eae0f01e",
   "metadata": {},
   "outputs": [
    {
     "name": "stdout",
     "output_type": "stream",
     "text": [
      "Sum of the digits of factorials from 1 to 5 are: [1, 2, 6, 6, 3]\n"
     ]
    }
   ],
   "source": [
    "import math\n",
    "\n",
    "def sum_of_digits(n):\n",
    "    return sum(int(digit) for digit in str(n))\n",
    "\n",
    "def factorial_digit_sums(range_end):\n",
    "    return [sum_of_digits(math.factorial(i)) for i in range(1, range_end + 1)]\n",
    "\n",
    "# Example usage\n",
    "range_end = 5\n",
    "digit_sums = factorial_digit_sums(range_end)\n",
    "print(\"Sum of the digits of factorials from 1 to\", range_end, \"are:\", digit_sums)\n"
   ]
  },
  {
   "cell_type": "markdown",
   "id": "a773645e-3a51-4c8f-a425-012bc8511322",
   "metadata": {},
   "source": [
    "37. Write a program that finds the longest word in a sentence using list comprehension."
   ]
  },
  {
   "cell_type": "code",
   "execution_count": 18,
   "id": "95b28f43-3993-4dc1-9efc-26d4387b7129",
   "metadata": {},
   "outputs": [
    {
     "name": "stdout",
     "output_type": "stream",
     "text": [
      "The longest word is: sentence.\n"
     ]
    }
   ],
   "source": [
    "def longest_word(sentence):\n",
    "    words = sentence.split()\n",
    "    return max(words, key=len)\n",
    "\n",
    "# Example usage\n",
    "sentence = \"Find the longest word in this sentence.\"\n",
    "longest = longest_word(sentence)\n",
    "print(\"The longest word is:\", longest)\n"
   ]
  },
  {
   "cell_type": "markdown",
   "id": "b0bbbfcb-ac7e-4b21-9fb3-24796cc1286b",
   "metadata": {},
   "source": [
    "38. Create a program that filters a list of strings to include only those with more than three vowels using list\n",
    "comprehension."
   ]
  },
  {
   "cell_type": "code",
   "execution_count": 19,
   "id": "f6e3e81b-a267-476c-a626-7de8234ab8b2",
   "metadata": {},
   "outputs": [
    {
     "name": "stdout",
     "output_type": "stream",
     "text": [
      "Strings with more than three vowels: ['beautiful']\n"
     ]
    }
   ],
   "source": [
    "def filter_strings_with_vowels(strings):\n",
    "    def count_vowels(s):\n",
    "        return sum(1 for char in s.lower() if char in 'aeiou')\n",
    "\n",
    "    return [s for s in strings if count_vowels(s) > 3]\n",
    "\n",
    "# Example usage\n",
    "string_list = [\"hello\", \"beautiful\", \"world\", \"programming\", \"example\"]\n",
    "filtered_list = filter_strings_with_vowels(string_list)\n",
    "print(\"Strings with more than three vowels:\", filtered_list)\n"
   ]
  },
  {
   "cell_type": "markdown",
   "id": "b6ed7bb6-c92a-4747-b404-f2259e2c27ab",
   "metadata": {},
   "source": [
    "39. Develop a program that calculates the sum of the digits of numbers from 1 to 1000 using list\n",
    "comprehension."
   ]
  },
  {
   "cell_type": "code",
   "execution_count": 20,
   "id": "ebe75d8c-82e4-424b-80a0-3c4208997472",
   "metadata": {},
   "outputs": [
    {
     "name": "stdout",
     "output_type": "stream",
     "text": [
      "Sum of the digits of numbers from 1 to 1000: [1, 2, 3, 4, 5, 6, 7, 8, 9, 1, 2, 3, 4, 5, 6, 7, 8, 9, 10, 2, 3, 4, 5, 6, 7, 8, 9, 10, 11, 3, 4, 5, 6, 7, 8, 9, 10, 11, 12, 4, 5, 6, 7, 8, 9, 10, 11, 12, 13, 5, 6, 7, 8, 9, 10, 11, 12, 13, 14, 6, 7, 8, 9, 10, 11, 12, 13, 14, 15, 7, 8, 9, 10, 11, 12, 13, 14, 15, 16, 8, 9, 10, 11, 12, 13, 14, 15, 16, 17, 9, 10, 11, 12, 13, 14, 15, 16, 17, 18, 1, 2, 3, 4, 5, 6, 7, 8, 9, 10, 2, 3, 4, 5, 6, 7, 8, 9, 10, 11, 3, 4, 5, 6, 7, 8, 9, 10, 11, 12, 4, 5, 6, 7, 8, 9, 10, 11, 12, 13, 5, 6, 7, 8, 9, 10, 11, 12, 13, 14, 6, 7, 8, 9, 10, 11, 12, 13, 14, 15, 7, 8, 9, 10, 11, 12, 13, 14, 15, 16, 8, 9, 10, 11, 12, 13, 14, 15, 16, 17, 9, 10, 11, 12, 13, 14, 15, 16, 17, 18, 10, 11, 12, 13, 14, 15, 16, 17, 18, 19, 2, 3, 4, 5, 6, 7, 8, 9, 10, 11, 3, 4, 5, 6, 7, 8, 9, 10, 11, 12, 4, 5, 6, 7, 8, 9, 10, 11, 12, 13, 5, 6, 7, 8, 9, 10, 11, 12, 13, 14, 6, 7, 8, 9, 10, 11, 12, 13, 14, 15, 7, 8, 9, 10, 11, 12, 13, 14, 15, 16, 8, 9, 10, 11, 12, 13, 14, 15, 16, 17, 9, 10, 11, 12, 13, 14, 15, 16, 17, 18, 10, 11, 12, 13, 14, 15, 16, 17, 18, 19, 11, 12, 13, 14, 15, 16, 17, 18, 19, 20, 3, 4, 5, 6, 7, 8, 9, 10, 11, 12, 4, 5, 6, 7, 8, 9, 10, 11, 12, 13, 5, 6, 7, 8, 9, 10, 11, 12, 13, 14, 6, 7, 8, 9, 10, 11, 12, 13, 14, 15, 7, 8, 9, 10, 11, 12, 13, 14, 15, 16, 8, 9, 10, 11, 12, 13, 14, 15, 16, 17, 9, 10, 11, 12, 13, 14, 15, 16, 17, 18, 10, 11, 12, 13, 14, 15, 16, 17, 18, 19, 11, 12, 13, 14, 15, 16, 17, 18, 19, 20, 12, 13, 14, 15, 16, 17, 18, 19, 20, 21, 4, 5, 6, 7, 8, 9, 10, 11, 12, 13, 5, 6, 7, 8, 9, 10, 11, 12, 13, 14, 6, 7, 8, 9, 10, 11, 12, 13, 14, 15, 7, 8, 9, 10, 11, 12, 13, 14, 15, 16, 8, 9, 10, 11, 12, 13, 14, 15, 16, 17, 9, 10, 11, 12, 13, 14, 15, 16, 17, 18, 10, 11, 12, 13, 14, 15, 16, 17, 18, 19, 11, 12, 13, 14, 15, 16, 17, 18, 19, 20, 12, 13, 14, 15, 16, 17, 18, 19, 20, 21, 13, 14, 15, 16, 17, 18, 19, 20, 21, 22, 5, 6, 7, 8, 9, 10, 11, 12, 13, 14, 6, 7, 8, 9, 10, 11, 12, 13, 14, 15, 7, 8, 9, 10, 11, 12, 13, 14, 15, 16, 8, 9, 10, 11, 12, 13, 14, 15, 16, 17, 9, 10, 11, 12, 13, 14, 15, 16, 17, 18, 10, 11, 12, 13, 14, 15, 16, 17, 18, 19, 11, 12, 13, 14, 15, 16, 17, 18, 19, 20, 12, 13, 14, 15, 16, 17, 18, 19, 20, 21, 13, 14, 15, 16, 17, 18, 19, 20, 21, 22, 14, 15, 16, 17, 18, 19, 20, 21, 22, 23, 6, 7, 8, 9, 10, 11, 12, 13, 14, 15, 7, 8, 9, 10, 11, 12, 13, 14, 15, 16, 8, 9, 10, 11, 12, 13, 14, 15, 16, 17, 9, 10, 11, 12, 13, 14, 15, 16, 17, 18, 10, 11, 12, 13, 14, 15, 16, 17, 18, 19, 11, 12, 13, 14, 15, 16, 17, 18, 19, 20, 12, 13, 14, 15, 16, 17, 18, 19, 20, 21, 13, 14, 15, 16, 17, 18, 19, 20, 21, 22, 14, 15, 16, 17, 18, 19, 20, 21, 22, 23, 15, 16, 17, 18, 19, 20, 21, 22, 23, 24, 7, 8, 9, 10, 11, 12, 13, 14, 15, 16, 8, 9, 10, 11, 12, 13, 14, 15, 16, 17, 9, 10, 11, 12, 13, 14, 15, 16, 17, 18, 10, 11, 12, 13, 14, 15, 16, 17, 18, 19, 11, 12, 13, 14, 15, 16, 17, 18, 19, 20, 12, 13, 14, 15, 16, 17, 18, 19, 20, 21, 13, 14, 15, 16, 17, 18, 19, 20, 21, 22, 14, 15, 16, 17, 18, 19, 20, 21, 22, 23, 15, 16, 17, 18, 19, 20, 21, 22, 23, 24, 16, 17, 18, 19, 20, 21, 22, 23, 24, 25, 8, 9, 10, 11, 12, 13, 14, 15, 16, 17, 9, 10, 11, 12, 13, 14, 15, 16, 17, 18, 10, 11, 12, 13, 14, 15, 16, 17, 18, 19, 11, 12, 13, 14, 15, 16, 17, 18, 19, 20, 12, 13, 14, 15, 16, 17, 18, 19, 20, 21, 13, 14, 15, 16, 17, 18, 19, 20, 21, 22, 14, 15, 16, 17, 18, 19, 20, 21, 22, 23, 15, 16, 17, 18, 19, 20, 21, 22, 23, 24, 16, 17, 18, 19, 20, 21, 22, 23, 24, 25, 17, 18, 19, 20, 21, 22, 23, 24, 25, 26, 9, 10, 11, 12, 13, 14, 15, 16, 17, 18, 10, 11, 12, 13, 14, 15, 16, 17, 18, 19, 11, 12, 13, 14, 15, 16, 17, 18, 19, 20, 12, 13, 14, 15, 16, 17, 18, 19, 20, 21, 13, 14, 15, 16, 17, 18, 19, 20, 21, 22, 14, 15, 16, 17, 18, 19, 20, 21, 22, 23, 15, 16, 17, 18, 19, 20, 21, 22, 23, 24, 16, 17, 18, 19, 20, 21, 22, 23, 24, 25, 17, 18, 19, 20, 21, 22, 23, 24, 25, 26, 18, 19, 20, 21, 22, 23, 24, 25, 26, 27, 1]\n"
     ]
    }
   ],
   "source": [
    "def sum_of_digits(n):\n",
    "    return sum(int(digit) for digit in str(n))\n",
    "\n",
    "def sum_of_digits_from_1_to_1000():\n",
    "    return [sum_of_digits(i) for i in range(1, 1001)]\n",
    "\n",
    "# Example usage\n",
    "digit_sums = sum_of_digits_from_1_to_1000()\n",
    "print(\"Sum of the digits of numbers from 1 to 1000:\", digit_sums)\n"
   ]
  },
  {
   "cell_type": "markdown",
   "id": "a0e83bf6-eaf7-4d9d-8922-a1d409e0c130",
   "metadata": {},
   "source": [
    "40. Write a program that generates a list of prime palindromic numbers using list comprehension."
   ]
  },
  {
   "cell_type": "code",
   "execution_count": 21,
   "id": "809aba32-c89f-4fc5-af19-3bdb292033d7",
   "metadata": {},
   "outputs": [
    {
     "name": "stdout",
     "output_type": "stream",
     "text": [
      "Prime palindromic numbers up to 100 are: [2, 3, 5, 7, 11]\n"
     ]
    }
   ],
   "source": [
    "def is_prime(n):\n",
    "    if n <= 1:\n",
    "        return False\n",
    "    if n <= 3:\n",
    "        return True\n",
    "    if n % 2 == 0 or n % 3 == 0:\n",
    "        return False\n",
    "    i = 5\n",
    "    while i * i <= n:\n",
    "        if n % i == 0 or n % (i + 2) == 0:\n",
    "            return False\n",
    "        i += 6\n",
    "    return True\n",
    "\n",
    "def is_palindromic(n):\n",
    "    s = str(n)\n",
    "    return s == s[::-1]\n",
    "\n",
    "def prime_palindromes(limit):\n",
    "    return [n for n in range(2, limit + 1) if is_prime(n) and is_palindromic(n)]\n",
    "\n",
    "# Example usage\n",
    "limit = 100\n",
    "prime_palindromic_numbers = prime_palindromes(limit)\n",
    "print(\"Prime palindromic numbers up to\", limit, \"are:\", prime_palindromic_numbers)\n"
   ]
  },
  {
   "cell_type": "code",
   "execution_count": null,
   "id": "1edf1cb7",
   "metadata": {},
   "outputs": [],
   "source": []
  }
 ],
 "metadata": {
  "kernelspec": {
   "display_name": "Python 3 (ipykernel)",
   "language": "python",
   "name": "python3"
  },
  "language_info": {
   "codemirror_mode": {
    "name": "ipython",
    "version": 3
   },
   "file_extension": ".py",
   "mimetype": "text/x-python",
   "name": "python",
   "nbconvert_exporter": "python",
   "pygments_lexer": "ipython3",
   "version": "3.11.4"
  }
 },
 "nbformat": 4,
 "nbformat_minor": 5
}
