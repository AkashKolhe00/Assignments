{
 "cells": [
  {
   "cell_type": "markdown",
   "id": "1ec176db-e132-4d91-abd3-cc228b65fb57",
   "metadata": {},
   "source": [
    "Assignment Control Flow"
   ]
  },
  {
   "cell_type": "markdown",
   "id": "595c19cc-c0d0-46f5-a597-134d6e94238c",
   "metadata": {},
   "source": [
    "Basic If-Else Statements:"
   ]
  },
  {
   "cell_type": "markdown",
   "id": "39dd7234-68d7-4c98-b4fd-68af8cfcde37",
   "metadata": {},
   "source": [
    "1. Write a Python program to check if a given number is positive or negative.\n",
    "\n",
    "\n",
    "\n",
    "\n",
    "\n",
    "\n",
    "\n",
    "\n"
   ]
  },
  {
   "cell_type": "code",
   "execution_count": 3,
   "id": "11ff1a9b-e44d-4111-be82-c8ad6cebd949",
   "metadata": {},
   "outputs": [
    {
     "name": "stdout",
     "output_type": "stream",
     "text": [
      "The number is positive\n"
     ]
    }
   ],
   "source": [
    "def po_no_chech(num):\n",
    "    \n",
    "    if num <0:\n",
    "        print(\"The number is negative\")\n",
    "    elif num >0:\n",
    "        print(\"The number is positive\")\n",
    "\n",
    "po_no_chech(10)"
   ]
  },
  {
   "cell_type": "markdown",
   "id": "0a8fcd71-658c-406d-a7e5-2bb03079deff",
   "metadata": {},
   "source": [
    "2. Create a program that determines if a person is eligible to vote based on their age."
   ]
  },
  {
   "cell_type": "code",
   "execution_count": 4,
   "id": "9795f331-7031-4f69-babb-8039f6afcb57",
   "metadata": {},
   "outputs": [
    {
     "name": "stdout",
     "output_type": "stream",
     "text": [
      "You are not allowed to vote\n"
     ]
    }
   ],
   "source": [
    "def voting_rights(age):\n",
    "    if age >= 18:\n",
    "        print(\"You are allowed to vote\")\n",
    "    else:\n",
    "        print(\"You are not allowed to vote\")\n",
    "\n",
    "voting_rights(15)"
   ]
  },
  {
   "cell_type": "markdown",
   "id": "60b92ffd-d30e-4187-9853-0a398728c949",
   "metadata": {},
   "source": [
    "3. Develop a program to find the maximum of two numbers using if-else statements."
   ]
  },
  {
   "cell_type": "code",
   "execution_count": 6,
   "id": "fbc3701d-1cae-476d-accd-8f92e5fc2a89",
   "metadata": {},
   "outputs": [
    {
     "name": "stdout",
     "output_type": "stream",
     "text": [
      "58 is greater\n"
     ]
    }
   ],
   "source": [
    "def maximum(a, b):\n",
    "    if a>b:\n",
    "        print(a, \"is greater\")\n",
    "    else:\n",
    "        print(b, \"is greater\")\n",
    "\n",
    "maximum(58, 53)"
   ]
  },
  {
   "cell_type": "markdown",
   "id": "99064ffc-6bd3-409d-8ee3-4c8e04c41781",
   "metadata": {},
   "source": [
    "4. Write a Python script to classify a given year as a leap year or not."
   ]
  },
  {
   "cell_type": "code",
   "execution_count": 8,
   "id": "593b2460-24c7-4151-a0a0-c89a51c22561",
   "metadata": {},
   "outputs": [
    {
     "data": {
      "text/plain": [
       "True"
      ]
     },
     "execution_count": 8,
     "metadata": {},
     "output_type": "execute_result"
    }
   ],
   "source": [
    "def is_leap_year(year):\n",
    "    if year%4 == 0:\n",
    "        if year%100 == 0:\n",
    "            if year%400 == 0:\n",
    "                return True\n",
    "            else:\n",
    "                return False\n",
    "        else:\n",
    "            return True\n",
    "    else: \n",
    "        return False\n",
    "\n",
    "is_leap_year(2008)"
   ]
  },
  {
   "cell_type": "markdown",
   "id": "60a82052-77af-46a7-8a67-e374dddba8e7",
   "metadata": {},
   "source": [
    "5. Create a program that checks whether a character is a vowel or a consonant."
   ]
  },
  {
   "cell_type": "code",
   "execution_count": 15,
   "id": "abfd5367-ce3b-4b4c-80b7-9f93759f83e2",
   "metadata": {},
   "outputs": [
    {
     "name": "stdout",
     "output_type": "stream",
     "text": [
      "The character is a consonant\n"
     ]
    }
   ],
   "source": [
    "def check_char(a):\n",
    "    if a.lower() in [\"a\", \"e\", \"i\", \"o\", \"u\"]:\n",
    "        print(\"The character is a vowel\")\n",
    "    else:\n",
    "        print(\"The character is a consonant\")\n",
    "\n",
    "check_char(\"n\")"
   ]
  },
  {
   "cell_type": "markdown",
   "id": "11493bfb-3378-4929-a7c0-8f02a68f903c",
   "metadata": {},
   "source": [
    "6. Implement a program to determine whether a given number is even or odd."
   ]
  },
  {
   "cell_type": "code",
   "execution_count": 17,
   "id": "6d55690d-7579-4c9d-a7e9-4ef155db91d2",
   "metadata": {},
   "outputs": [
    {
     "name": "stdout",
     "output_type": "stream",
     "text": [
      "The number is odd\n"
     ]
    }
   ],
   "source": [
    "def check_for_even_odd(n):\n",
    "    if n%2 == 0:\n",
    "        print(\"The number is even\")\n",
    "    else:\n",
    "        print(\"The number is odd\")\n",
    "\n",
    "check_for_even_odd(65)"
   ]
  },
  {
   "cell_type": "markdown",
   "id": "f9a3818b-0b85-4ca9-ba04-eb13fd2a86d5",
   "metadata": {},
   "source": [
    "7. Write a Python function to calculate the absolute value of a number without using the `abs()` function."
   ]
  },
  {
   "cell_type": "code",
   "execution_count": 21,
   "id": "2a1265a8-640e-44d4-9308-b90049ff972b",
   "metadata": {},
   "outputs": [
    {
     "name": "stdout",
     "output_type": "stream",
     "text": [
      "5\n"
     ]
    }
   ],
   "source": [
    "def absolute_value(n):\n",
    "    if n >=0:\n",
    "        print(n)\n",
    "    else:\n",
    "        print(n*(-1))\n",
    "    \n",
    "absolute_value(-5)"
   ]
  },
  {
   "cell_type": "markdown",
   "id": "43991e0b-4eb1-4249-b3d5-36c049401a45",
   "metadata": {},
   "source": [
    "8. Develop a program that determines the largest of three given numbers using if-else statements."
   ]
  },
  {
   "cell_type": "code",
   "execution_count": 22,
   "id": "e4b00fae-5a7e-47f1-b7b4-2e41abef25a5",
   "metadata": {},
   "outputs": [
    {
     "name": "stdout",
     "output_type": "stream",
     "text": [
      "85 is greatest\n"
     ]
    }
   ],
   "source": [
    "def largest_no(a, b, c):\n",
    "    if a>=b and a>=c:\n",
    "        print(a, \"is greatest\")\n",
    "    elif b>=a and b>=c:\n",
    "        print(b, \"is greatest\")\n",
    "    else:\n",
    "        print(c, \"is greatest\")\n",
    "\n",
    "largest_no(10, 56, 85)"
   ]
  },
  {
   "cell_type": "markdown",
   "id": "8cfdc48e-f5d4-48a8-a863-317b995586d8",
   "metadata": {},
   "source": [
    "9. Create a program that checks if a given string is a palindrome."
   ]
  },
  {
   "cell_type": "code",
   "execution_count": 32,
   "id": "e4d742e8-94b8-4949-8e61-0e33dcc92e60",
   "metadata": {},
   "outputs": [
    {
     "name": "stdout",
     "output_type": "stream",
     "text": [
      "The string is not Palindrome\n"
     ]
    }
   ],
   "source": [
    "def check_palindrome(my_string):\n",
    "    my_string = my_string.lower()\n",
    "    my_string = my_string.replace(\" \", \"\")\n",
    "    reversed_string = my_string[::-1]\n",
    "    if my_string == reversed_string:\n",
    "        print(\"The string is Palindrome\")\n",
    "    else:\n",
    "        print(\"The string is not Palindrome\")\n",
    "\n",
    "check_palindrome(\"Now sir a war is won\")"
   ]
  },
  {
   "cell_type": "markdown",
   "id": "eaeaa0ca-f64d-4196-af9c-04c15e7b11dd",
   "metadata": {},
   "source": [
    "10. Write a Python program to calculate the grade based on a student's score."
   ]
  },
  {
   "cell_type": "code",
   "execution_count": 35,
   "id": "30a50f2f-f87c-4b29-b602-2573cbe87e2f",
   "metadata": {},
   "outputs": [
    {
     "name": "stdout",
     "output_type": "stream",
     "text": [
      "Outstanding\n"
     ]
    }
   ],
   "source": [
    "def grade(n):\n",
    "    if n < 35:\n",
    "        print(\"Failed\")\n",
    "    elif n < 60:\n",
    "        print(\"Passed\")\n",
    "    elif n < 80:\n",
    "        print(\"Average\")\n",
    "    elif n < 90:\n",
    "        print(\"Excellent\")\n",
    "    else:\n",
    "        print(\"Outstanding\")\n",
    "\n",
    "grade(91)"
   ]
  },
  {
   "cell_type": "markdown",
   "id": "30a3efb1-43e1-4bce-ab66-4b7876cbfac0",
   "metadata": {},
   "source": [
    "Nested If-Else Statements:"
   ]
  },
  {
   "cell_type": "markdown",
   "id": "4ab08cdf-85ad-410d-98b1-5b2afc8e5165",
   "metadata": {},
   "source": [
    "11. Write a program to find the largest among three numbers using nested if-else statements."
   ]
  },
  {
   "cell_type": "code",
   "execution_count": 1,
   "id": "8f3f3e9f-c5a0-4977-9aad-769823c3523d",
   "metadata": {},
   "outputs": [
    {
     "data": {
      "text/plain": [
       "89"
      ]
     },
     "execution_count": 1,
     "metadata": {},
     "output_type": "execute_result"
    }
   ],
   "source": [
    "def largest_num(num1, num2, num3):\n",
    "    if num1 >= num2:\n",
    "        if num1 >= num3:\n",
    "            return num1\n",
    "        else:\n",
    "            return num3\n",
    "    else:\n",
    "        if num2 >= num3:\n",
    "            return num2\n",
    "        else: \n",
    "            return num3\n",
    "\n",
    "largest_num(65, 89, 5)"
   ]
  },
  {
   "cell_type": "markdown",
   "id": "a7f71550-f987-40af-8f35-82021a836878",
   "metadata": {},
   "source": [
    "12. Implement a program to determine if a triangle is equilateral, isosceles, or scalene."
   ]
  },
  {
   "cell_type": "code",
   "execution_count": 7,
   "id": "83bc86ad-9784-4d19-befa-83367a678510",
   "metadata": {},
   "outputs": [
    {
     "data": {
      "text/plain": [
       "'Scalene'"
      ]
     },
     "execution_count": 7,
     "metadata": {},
     "output_type": "execute_result"
    }
   ],
   "source": [
    "def triangle_type(side1, side2, side3):\n",
    "    if side1 <= 0 or side2 <= 0 or side3 <= 0:\n",
    "        print(\"Invalid side length. Please input positive side length\")\n",
    "    elif side1 + side2 <= side3 or side1 + side3 <= side2 or side3 + side2 <= side1:\n",
    "        print(\"Invalid triangle\")\n",
    "    else:\n",
    "        if side1 == side2 == side3:\n",
    "            return \"Equilateral\"\n",
    "        else:\n",
    "            if side1 == side2 or side1== side3 or side2 == side3:\n",
    "                return \"Isosceles\"\n",
    "            else:\n",
    "                return \"Scalene\"\n",
    "\n",
    "triangle_type(56, 85, 69)"
   ]
  },
  {
   "cell_type": "markdown",
   "id": "8320e8c6-b400-4937-8b76-5a97d4146133",
   "metadata": {},
   "source": [
    "13. Develop a program that checks if a year is a leap year and also if it is a century year."
   ]
  },
  {
   "cell_type": "code",
   "execution_count": 8,
   "id": "f26307c2-6122-4a65-ab72-44fb5840e410",
   "metadata": {},
   "outputs": [
    {
     "name": "stdout",
     "output_type": "stream",
     "text": [
      "Not a Leap Year\n"
     ]
    }
   ],
   "source": [
    "def year_type(year):\n",
    "    if year % 4 ==0:\n",
    "        if year % 100 ==0:\n",
    "            if year % 400 ==0:\n",
    "                print(\"Century Year and a Leap Year\")\n",
    "            else:\n",
    "                print(\"Century Year but not a Leap Year\")\n",
    "        else:\n",
    "            print(\"Leap Year\")\n",
    "    else:\n",
    "        print(\"Not a Leap Year\")\n",
    "\n",
    "\n",
    "year_type(2030)\n",
    "\n"
   ]
  },
  {
   "cell_type": "markdown",
   "id": "0b6d1be0-40de-4553-a731-7a4bce557835",
   "metadata": {},
   "source": [
    "14. Write a Python script to determine if a number is positive, negative, or zero."
   ]
  },
  {
   "cell_type": "code",
   "execution_count": 9,
   "id": "eac06f34-13f5-4acd-8df8-09d8eecc0dab",
   "metadata": {},
   "outputs": [
    {
     "name": "stdout",
     "output_type": "stream",
     "text": [
      "It is a negative number\n"
     ]
    }
   ],
   "source": [
    "def check_integer(n):\n",
    "    if n == 0:\n",
    "        print(\"It is a zero\")\n",
    "    elif n <0:\n",
    "        print(\"It is a negative number\")\n",
    "    else:\n",
    "        print(\"It is a positive number\")\n",
    "\n",
    "check_integer(-86)"
   ]
  },
  {
   "cell_type": "markdown",
   "id": "9ec44cf3-fbf2-4e51-8afb-2d04a1c3a4e5",
   "metadata": {},
   "source": [
    "15. Create a program to check if a person is a teenager (between 13 and 19 years old)."
   ]
  },
  {
   "cell_type": "code",
   "execution_count": 15,
   "id": "3f898d1b-88f7-49b0-b293-08e0b7c4e41f",
   "metadata": {},
   "outputs": [
    {
     "name": "stdout",
     "output_type": "stream",
     "text": [
      "Teenager\n"
     ]
    }
   ],
   "source": [
    "def teenager_chech(age):\n",
    "    if age > 0:\n",
    "        \n",
    "        if 13 < age < 19:\n",
    "            print(\"Teenager\")\n",
    "        else:\n",
    "            print(\"Not a teenager\")\n",
    "    else:\n",
    "        print(\"Invalid Age\")\n",
    "\n",
    "teenager_chech(15)"
   ]
  },
  {
   "cell_type": "markdown",
   "id": "88635d1f-3e7c-4f4f-83c8-8012100dd002",
   "metadata": {},
   "source": [
    "16. Develop a program that determines the type of angle based on its measure (acute, obtuse, or right)."
   ]
  },
  {
   "cell_type": "code",
   "execution_count": 20,
   "id": "6bbf0f37-8aad-45b1-9f6a-9d67c052fe26",
   "metadata": {},
   "outputs": [
    {
     "data": {
      "text/plain": [
       "'Obtuse Angle'"
      ]
     },
     "execution_count": 20,
     "metadata": {},
     "output_type": "execute_result"
    }
   ],
   "source": [
    "def angle_triangle(angle):\n",
    "    if angle < 0 or angle > 180:\n",
    "        return \"Invalid Angle\"\n",
    "    else:\n",
    "        if angle < 90:\n",
    "            return \"Acute Angle\"\n",
    "        elif angle == 90:\n",
    "            return \"Right Angle\"\n",
    "        else:\n",
    "            return \"Obtuse Angle\"\n",
    "\n",
    "angle_triangle(180)"
   ]
  },
  {
   "cell_type": "markdown",
   "id": "ce85e196-d901-4b9c-8ee7-2bc78e6c998a",
   "metadata": {},
   "source": [
    "17. Write a Python program to calculate the roots of a quadratic equation."
   ]
  },
  {
   "cell_type": "code",
   "execution_count": 28,
   "id": "5474e3d1-213e-4243-8977-f9a508669dfa",
   "metadata": {},
   "outputs": [
    {
     "name": "stdout",
     "output_type": "stream",
     "text": [
      "Two real roots -2.3431457505076194 -13.65685424949238\n"
     ]
    }
   ],
   "source": [
    "import math\n",
    "\n",
    "def quadratic_roots(a,b,c):\n",
    "    discriminant = b**2 - 4*a*c\n",
    "    if discriminant < 0:\n",
    "        return \"No real roots\"\n",
    "    else:\n",
    "        if discriminant ==0:\n",
    "            root = -b/(2*a)\n",
    "        else:\n",
    "            root1 = (-b + math.sqrt(discriminant))/2*a\n",
    "            root2 = (-b - math.sqrt(discriminant))/2*a\n",
    "            print(\"Two real roots\", root1, root2)\n",
    "\n",
    "quadratic_roots(2,8,4)"
   ]
  },
  {
   "cell_type": "markdown",
   "id": "b770759b-1eb4-4cbc-8af5-50ca2446bd8d",
   "metadata": {},
   "source": [
    "18. Implement a program to determine the day of the week based on a user-provided number (1 for Monday, 2\n",
    "for Tuesday, etc.)."
   ]
  },
  {
   "cell_type": "code",
   "execution_count": 31,
   "id": "b1f56038-60eb-4b64-b687-6e00e2c5f939",
   "metadata": {},
   "outputs": [
    {
     "data": {
      "text/plain": [
       "'Friday'"
      ]
     },
     "execution_count": 31,
     "metadata": {},
     "output_type": "execute_result"
    }
   ],
   "source": [
    "def day_of_week(n):\n",
    "    days = [\"Monday\", \"Tuesday\", \"Wednesday\", \"Thursday\", \"Friday\", \"Saturday\", \"Sunday\"]\n",
    "    if 1 <= n <=7:\n",
    "        return days[n-1]\n",
    "\n",
    "    else:\n",
    "        return \"Invalid Input\"\n",
    "\n",
    "day_of_week(5)"
   ]
  },
  {
   "cell_type": "markdown",
   "id": "e398e0dd-2d87-4f09-b4e7-990578e23df6",
   "metadata": {},
   "source": [
    "19. Create a program that determines if a year is a leap year and also if it is evenly divisible by 400."
   ]
  },
  {
   "cell_type": "code",
   "execution_count": 33,
   "id": "4fadd06f-91d5-406a-8420-b82ab1b46c81",
   "metadata": {},
   "outputs": [
    {
     "data": {
      "text/plain": [
       "'Leap Year and divisible by 400'"
      ]
     },
     "execution_count": 33,
     "metadata": {},
     "output_type": "execute_result"
    }
   ],
   "source": [
    "def leap_year(year):\n",
    "    if year % 4 == 0:\n",
    "        if year % 100 == 0:\n",
    "            if year % 400 == 0:\n",
    "                return \"Leap Year and divisible by 400\"\n",
    "\n",
    "            else:\n",
    "                return \"Not a Leap Year\"\n",
    "        else:\n",
    "            return \"Leap Year\"   \n",
    "    else:\n",
    "        return \"Not a Leap year\"\n",
    "\n",
    "leap_year(2000)"
   ]
  },
  {
   "cell_type": "markdown",
   "id": "88833401-a3a4-451e-9e79-e7ccbb695494",
   "metadata": {},
   "source": [
    "20. Develop a program that checks if a given number is prime or not using nested if-else statements."
   ]
  },
  {
   "cell_type": "code",
   "execution_count": 34,
   "id": "78d5e953-6569-4ac3-a271-34aa28821bc7",
   "metadata": {},
   "outputs": [
    {
     "data": {
      "text/plain": [
       "True"
      ]
     },
     "execution_count": 34,
     "metadata": {},
     "output_type": "execute_result"
    }
   ],
   "source": [
    "def is_prime(n):\n",
    "    if n<=1:\n",
    "        return False\n",
    "    elif n == 2 or n == 3:\n",
    "        return True\n",
    "    else:\n",
    "        for i in range(2, int(n**0.5)+1):\n",
    "            if n%i == 0:\n",
    "                return False\n",
    "            else:\n",
    "                return True\n",
    "\n",
    "is_prime(13)"
   ]
  },
  {
   "cell_type": "markdown",
   "id": "115fc6bd-473f-4bb8-96a8-2692ceddc90c",
   "metadata": {},
   "source": [
    "Elif Statements:"
   ]
  },
  {
   "cell_type": "markdown",
   "id": "f8d5eaa7-8341-4dff-8fa9-7900aecff899",
   "metadata": {},
   "source": [
    "21. Write a Python program to assign grades based on different ranges of scores using elif statements."
   ]
  },
  {
   "cell_type": "code",
   "execution_count": 35,
   "id": "aa3dec20-9402-4144-a596-b8b859c7137c",
   "metadata": {},
   "outputs": [
    {
     "name": "stdout",
     "output_type": "stream",
     "text": [
      "Average\n"
     ]
    }
   ],
   "source": [
    "def grade(n):\n",
    "    if n < 35:\n",
    "        print(\"Failed\")\n",
    "    elif n < 60:\n",
    "        print(\"Passed\")\n",
    "    elif n < 80:\n",
    "        print(\"Average\")\n",
    "    elif n < 90:\n",
    "        print(\"Excellent\")\n",
    "    else:\n",
    "        print(\"Outstanding\")\n",
    "\n",
    "grade(79)"
   ]
  },
  {
   "cell_type": "markdown",
   "id": "965e2898-4255-4595-b467-d9caa0a67fb1",
   "metadata": {},
   "source": [
    "22. Implement a program to determine the type of a triangle based on its angles."
   ]
  },
  {
   "cell_type": "code",
   "execution_count": 36,
   "id": "c1157b01-ff6f-443a-ad05-fe642b2b7c50",
   "metadata": {},
   "outputs": [
    {
     "data": {
      "text/plain": [
       "'Acute Angle'"
      ]
     },
     "execution_count": 36,
     "metadata": {},
     "output_type": "execute_result"
    }
   ],
   "source": [
    "def angle_triangle(angle):\n",
    "    if angle < 0 or angle > 180:\n",
    "        return \"Invalid Angle\"\n",
    "    else:\n",
    "        if angle < 90:\n",
    "            return \"Acute Angle\"\n",
    "        elif angle == 90:\n",
    "            return \"Right Angle\"\n",
    "        else:\n",
    "            return \"Obtuse Angle\"\n",
    "\n",
    "angle_triangle(50)"
   ]
  },
  {
   "cell_type": "markdown",
   "id": "79e3ce7e-94e5-42bb-9f7c-ad7f61d10645",
   "metadata": {},
   "source": [
    "23. Develop a program to categorize a given person's BMI into underweight, normal, overweight, or obese using\n",
    "elif statements."
   ]
  },
  {
   "cell_type": "code",
   "execution_count": 38,
   "id": "e37d9607-1bbf-419a-800a-e30d1955fc68",
   "metadata": {},
   "outputs": [
    {
     "data": {
      "text/plain": [
       "'Overweight'"
      ]
     },
     "execution_count": 38,
     "metadata": {},
     "output_type": "execute_result"
    }
   ],
   "source": [
    "def Check_BMI(n):\n",
    "    if n <= 0:\n",
    "        return \"Invalid BMI\"\n",
    "    elif n < 18.5:\n",
    "        return \"Underweight\"\n",
    "    elif n <= 24.9:\n",
    "        return \"Healthy Weight range\"\n",
    "    elif n <= 30:\n",
    "        return \"Overweight\"\n",
    "    else:\n",
    "        return \"Obese\"\n",
    "\n",
    "Check_BMI(25)"
   ]
  },
  {
   "cell_type": "markdown",
   "id": "32b228bb-ef4c-452a-98bf-b2157d6c3ca1",
   "metadata": {},
   "source": [
    "24. Create a program that determines whether a given number is positive, negative, or zero using elif\n",
    "statements."
   ]
  },
  {
   "cell_type": "code",
   "execution_count": 37,
   "id": "27796fb6-3c1e-487e-8dfe-3030f961c1de",
   "metadata": {},
   "outputs": [
    {
     "name": "stdout",
     "output_type": "stream",
     "text": [
      "It is a positive number\n"
     ]
    }
   ],
   "source": [
    "def check_integer(n):\n",
    "    if n == 0:\n",
    "        print(\"It is a zero\")\n",
    "    elif n <0:\n",
    "        print(\"It is a negative number\")\n",
    "    else:\n",
    "        print(\"It is a positive number\")\n",
    "\n",
    "check_integer(86)"
   ]
  },
  {
   "cell_type": "markdown",
   "id": "8394c848-9c19-40ef-9ece-1a51c9625ea0",
   "metadata": {},
   "source": [
    "25. Write a Python script to determine the type of a character (uppercase, lowercase, or special) using elif\n",
    "statements."
   ]
  },
  {
   "cell_type": "code",
   "execution_count": 40,
   "id": "eb704ed3-59e4-4904-bdc7-010c9fdaf340",
   "metadata": {},
   "outputs": [
    {
     "data": {
      "text/plain": [
       "'Special Case character'"
      ]
     },
     "execution_count": 40,
     "metadata": {},
     "output_type": "execute_result"
    }
   ],
   "source": [
    "def char_check(char):\n",
    "    if char.isupper():\n",
    "        return \"Uppercase Character\"\n",
    "    elif char.islower():\n",
    "        return \"Lowercase Character\"\n",
    "    else:\n",
    "        return \"Special Case character\"\n",
    "\n",
    "char_check('%')"
   ]
  },
  {
   "cell_type": "markdown",
   "id": "05eac9dc-b643-4293-b58f-07334ae1f2be",
   "metadata": {},
   "source": [
    "26. Implement a program to calculate the discounted price based on different purchase amounts using elif\n",
    "statements."
   ]
  },
  {
   "cell_type": "code",
   "execution_count": 1,
   "id": "7560c621-3e40-42a8-a130-af578d526c90",
   "metadata": {},
   "outputs": [
    {
     "data": {
      "text/plain": [
       "'Invalid Price'"
      ]
     },
     "execution_count": 1,
     "metadata": {},
     "output_type": "execute_result"
    }
   ],
   "source": [
    "def dicount_based_pricing(price):\n",
    "    if price <= 0:\n",
    "        return \"Invalid Price\"\n",
    "    elif price <= 500:\n",
    "        discount = 20\n",
    "    elif price <= 1000:\n",
    "        discount = 50\n",
    "    elif price >1000:\n",
    "        discount = 75\n",
    "    discounted_price = (price*discount)/100\n",
    "    return price-discounted_price\n",
    "\n",
    "dicount_based_pricing(0)"
   ]
  },
  {
   "cell_type": "markdown",
   "id": "87805032-7e1c-4aec-a9c3-0b0ff3e05ba7",
   "metadata": {},
   "source": [
    "27. Develop a program to calculate the electricity bill based on different consumption slabs using elif\n",
    "statements."
   ]
  },
  {
   "cell_type": "code",
   "execution_count": 47,
   "id": "534e645f-91b5-44cd-98ec-63eb410289c4",
   "metadata": {},
   "outputs": [
    {
     "data": {
      "text/plain": [
       "56.25"
      ]
     },
     "execution_count": 47,
     "metadata": {},
     "output_type": "execute_result"
    }
   ],
   "source": [
    "def electricity_bill(units):\n",
    "    if units <= 50:\n",
    "        bill = units*0.50\n",
    "    elif units <= 150:\n",
    "        bill = units*0.75\n",
    "    elif units <= 250:\n",
    "        bill = units*1.2\n",
    "    else:\n",
    "        bill = units*1.5\n",
    "    return bill\n",
    "\n",
    "electricity_bill(75)"
   ]
  },
  {
   "cell_type": "markdown",
   "id": "0d0da448-9441-4de0-bb9f-b7a25eb66d0d",
   "metadata": {},
   "source": [
    "28. Create a program to determine the type of quadrilateral based on its angles and sides using elif\n",
    "statements."
   ]
  },
  {
   "cell_type": "code",
   "execution_count": 48,
   "id": "bf94329d-53af-4dda-94a5-6aedcdcb6b8b",
   "metadata": {},
   "outputs": [
    {
     "data": {
      "text/plain": [
       "'Quadrilateral'"
      ]
     },
     "execution_count": 48,
     "metadata": {},
     "output_type": "execute_result"
    }
   ],
   "source": [
    "def determine_quadrilateral_type(a, b, c, d):\n",
    "    if a == b == c == d:\n",
    "        return \"Square\" if a == 90 else \"Rhombus\"\n",
    "    elif a == c and b == d:\n",
    "        return \"Rectangle\" if a == 90 else \"Parallelogram\"\n",
    "    elif a == b != c == d or a == c != b == d or a == d != b == c:\n",
    "        return \"Kite\"\n",
    "    else:\n",
    "        return \"Quadrilateral\"\n",
    "\n",
    "determine_quadrilateral_type(75, 75, 96, 74)"
   ]
  },
  {
   "cell_type": "markdown",
   "id": "fe636944-bfb9-4f32-8700-c891f9816cfa",
   "metadata": {},
   "source": [
    "29. Write a Python script to determine the season based on a user-provided month using elif statements."
   ]
  },
  {
   "cell_type": "code",
   "execution_count": 50,
   "id": "a2af02c5-6550-4d79-8022-1e40a5f35002",
   "metadata": {},
   "outputs": [
    {
     "data": {
      "text/plain": [
       "'Summer'"
      ]
     },
     "execution_count": 50,
     "metadata": {},
     "output_type": "execute_result"
    }
   ],
   "source": [
    "def check_season(month):\n",
    "    summer = [\"March\", \"April\", \"May\", \"June\"]\n",
    "    rainy = [\"July\", \"August\", \"September\", \"October\"]\n",
    "    winter = [\"November\", \"December\", \"January\", \"February\"]\n",
    "    if month in summer:\n",
    "        return \"Summer\"\n",
    "    elif month in rainy:\n",
    "        return \"Rainy\"\n",
    "    elif month in winter:\n",
    "        return \"Winter\"\n",
    "    else:\n",
    "        return \"Invalid month\"\n",
    "\n",
    "check_season(\"March\")"
   ]
  },
  {
   "cell_type": "markdown",
   "id": "973b15b2-72bf-4a1f-acfb-a617fee35c30",
   "metadata": {},
   "source": [
    "30. Implement a program to determine the type of a year (leap or common) and month (30 or 31 days) using\n",
    "elif statements."
   ]
  },
  {
   "cell_type": "code",
   "execution_count": 52,
   "id": "819607fb-05e5-4c30-8405-9625c82e6de4",
   "metadata": {},
   "outputs": [
    {
     "data": {
      "text/plain": [
       "31"
      ]
     },
     "execution_count": 52,
     "metadata": {},
     "output_type": "execute_result"
    }
   ],
   "source": [
    "def is_leap_year(year):\n",
    "    if (year % 4 == 0 and year % 100 != 0) or (year % 400 == 0):\n",
    "        return True\n",
    "    else:\n",
    "        return False\n",
    "\n",
    "def days_in_month(month, year):\n",
    "    if month in [1, 3, 5, 7, 8, 10, 12]:\n",
    "        return 31\n",
    "    elif month in [4, 6, 9, 11]:\n",
    "        return 30\n",
    "    elif month == 2:\n",
    "        if is_leap_year(year):\n",
    "            return 29\n",
    "        else:\n",
    "            return 28\n",
    "    else:\n",
    "        return -1\n",
    "\n",
    "days_in_month(7, 2008)"
   ]
  },
  {
   "cell_type": "markdown",
   "id": "8af7486c-078d-404a-ac7d-73d2b4c3615e",
   "metadata": {},
   "source": [
    "Basic Level:"
   ]
  },
  {
   "cell_type": "markdown",
   "id": "c80983f5-baac-4888-a807-0a7f4721b7ca",
   "metadata": {},
   "source": [
    "1. Write a Python program that checks if a given number is positive, negative, or zero."
   ]
  },
  {
   "cell_type": "code",
   "execution_count": 53,
   "id": "9d5f6e5a-b72b-403b-bd5c-22e2c4c5fcac",
   "metadata": {},
   "outputs": [
    {
     "name": "stdout",
     "output_type": "stream",
     "text": [
      "It is a negative number\n"
     ]
    }
   ],
   "source": [
    "def check_integer(n):\n",
    "    if n == 0:\n",
    "        print(\"It is a zero\")\n",
    "    elif n <0:\n",
    "        print(\"It is a negative number\")\n",
    "    else:\n",
    "        print(\"It is a positive number\")\n",
    "\n",
    "check_integer(-86)"
   ]
  },
  {
   "cell_type": "markdown",
   "id": "7ff014ad-2327-49e6-878d-57c3e4bf38ee",
   "metadata": {},
   "source": [
    "2. Create a program to determine if a person is eligible to vote based on their age."
   ]
  },
  {
   "cell_type": "code",
   "execution_count": 54,
   "id": "458389fe-5e85-4d61-9ed0-cf221726b2f1",
   "metadata": {},
   "outputs": [
    {
     "data": {
      "text/plain": [
       "'Eligible for voting'"
      ]
     },
     "execution_count": 54,
     "metadata": {},
     "output_type": "execute_result"
    }
   ],
   "source": [
    "def voting_eligible(age):\n",
    "    if age <=0:\n",
    "        return \"Invalid age\"\n",
    "    elif age <18:\n",
    "        return \"Not eligible for voting\"\n",
    "    else:\n",
    "        return \"Eligible for voting\"\n",
    "\n",
    "voting_eligible(25)"
   ]
  },
  {
   "cell_type": "markdown",
   "id": "6fd1e8bf-fccb-412e-b5b2-d7c0bf4135a1",
   "metadata": {},
   "source": [
    "3. Write a program to find the maximum of two given numbers using conditional statements."
   ]
  },
  {
   "cell_type": "code",
   "execution_count": 58,
   "id": "289d4b0d-1af0-4182-851f-ca35ad4d72ed",
   "metadata": {},
   "outputs": [
    {
     "name": "stdout",
     "output_type": "stream",
     "text": [
      "85 is maximum\n"
     ]
    }
   ],
   "source": [
    "def maximum(a, b):\n",
    "    if a<b:\n",
    "        print(b, \"is maximum\")\n",
    "    elif a>b:\n",
    "        print(a, \"is maximum\")\n",
    "    else:\n",
    "        return \"Equal\"\n",
    "maximum(58, 85)        "
   ]
  },
  {
   "cell_type": "markdown",
   "id": "f243c536-74c2-43f5-b4db-2adeb7923c63",
   "metadata": {},
   "source": [
    "4. Develop a program that calculates the grade of a student based on their exam score."
   ]
  },
  {
   "cell_type": "code",
   "execution_count": 59,
   "id": "43d9290d-e766-4c6b-99e1-cf3ed8085655",
   "metadata": {},
   "outputs": [
    {
     "name": "stdout",
     "output_type": "stream",
     "text": [
      "A\n"
     ]
    }
   ],
   "source": [
    "def grade(n):\n",
    "    if n < 35:\n",
    "        print(\"F\")\n",
    "    elif n < 60:\n",
    "        print(\"D\")\n",
    "    elif n < 80:\n",
    "        print(\"C\")\n",
    "    elif n < 90:\n",
    "        print(\"B\")\n",
    "    else:\n",
    "        print(\"A\")\n",
    "\n",
    "grade(97)"
   ]
  },
  {
   "cell_type": "markdown",
   "id": "39fb26e1-d4fa-43b2-9922-07e7803cb5b7",
   "metadata": {},
   "source": [
    "5. Create a program that checks if a year is a leap year or not."
   ]
  },
  {
   "cell_type": "code",
   "execution_count": 60,
   "id": "f5378e03-3818-464e-a401-cbbfdfedfd1b",
   "metadata": {},
   "outputs": [
    {
     "data": {
      "text/plain": [
       "'Leap Year'"
      ]
     },
     "execution_count": 60,
     "metadata": {},
     "output_type": "execute_result"
    }
   ],
   "source": [
    "def leap_year(year):\n",
    "    if year % 4 == 0:\n",
    "        if year % 100 == 0:\n",
    "            if year % 400 == 0:\n",
    "                return \"Leap Year and divisible by 400\"\n",
    "\n",
    "            else:\n",
    "                return \"Not a Leap Year\"\n",
    "        else:\n",
    "            return \"Leap Year\"   \n",
    "    else:\n",
    "        return \"Not a Leap year\"\n",
    "\n",
    "leap_year(2008)"
   ]
  },
  {
   "cell_type": "markdown",
   "id": "d6db41d4-091a-495d-9c9a-1f28c2b8a0c7",
   "metadata": {},
   "source": [
    "6. Write a program to classify a triangle based on its sides' lengths."
   ]
  },
  {
   "cell_type": "code",
   "execution_count": 61,
   "id": "c70cff97-bd4a-4f3c-b7f4-90440717995a",
   "metadata": {},
   "outputs": [
    {
     "data": {
      "text/plain": [
       "'Equilateral'"
      ]
     },
     "execution_count": 61,
     "metadata": {},
     "output_type": "execute_result"
    }
   ],
   "source": [
    "def triangle_type(side1, side2, side3):\n",
    "    if side1 <= 0 or side2 <= 0 or side3 <= 0:\n",
    "        print(\"Invalid side length. Please input positive side length\")\n",
    "    elif side1 + side2 <= side3 or side1 + side3 <= side2 or side3 + side2 <= side1:\n",
    "        print(\"Invalid triangle\")\n",
    "    else:\n",
    "        if side1 == side2 == side3:\n",
    "            return \"Equilateral\"\n",
    "        else:\n",
    "            if side1 == side2 or side1== side3 or side2 == side3:\n",
    "                return \"Isosceles\"\n",
    "            else:\n",
    "                return \"Scalene\"\n",
    "\n",
    "triangle_type(69, 69, 69)"
   ]
  },
  {
   "cell_type": "markdown",
   "id": "5c2f5461-bfc7-4f9e-aacb-85866988b172",
   "metadata": {},
   "source": [
    "7. Build a program that determines the largest of three given numbers."
   ]
  },
  {
   "cell_type": "code",
   "execution_count": 62,
   "id": "18ee0aa0-214c-4696-9d0c-2968180d2c62",
   "metadata": {},
   "outputs": [
    {
     "name": "stdout",
     "output_type": "stream",
     "text": [
      "85 is greatest\n"
     ]
    }
   ],
   "source": [
    "def largest_no(a, b, c):\n",
    "    if a>=b and a>=c:\n",
    "        print(a, \"is greatest\")\n",
    "    elif b>=a and b>=c:\n",
    "        print(b, \"is greatest\")\n",
    "    else:\n",
    "        print(c, \"is greatest\")\n",
    "\n",
    "largest_no(10, 56, 85)"
   ]
  },
  {
   "cell_type": "markdown",
   "id": "571a0da2-165e-4dad-99a6-c615c5aa2ac6",
   "metadata": {},
   "source": [
    "8. Develop a program that checks whether a character is a vowel or a consonant."
   ]
  },
  {
   "cell_type": "code",
   "execution_count": 63,
   "id": "c9b92a70-488b-4059-9fbe-b2fbb7314d1a",
   "metadata": {},
   "outputs": [
    {
     "name": "stdout",
     "output_type": "stream",
     "text": [
      "The character is a consonant\n"
     ]
    }
   ],
   "source": [
    "def check_char(a):\n",
    "    if a.lower() in [\"a\", \"e\", \"i\", \"o\", \"u\"]:\n",
    "        print(\"The character is a vowel\")\n",
    "    else:\n",
    "        print(\"The character is a consonant\")\n",
    "\n",
    "check_char(\"n\")"
   ]
  },
  {
   "cell_type": "markdown",
   "id": "8835625b-8a24-4141-98a8-440456f0c9a0",
   "metadata": {},
   "source": [
    "9. Create a program to calculate the total cost of a shopping cart based on discounts."
   ]
  },
  {
   "cell_type": "code",
   "execution_count": 65,
   "id": "9325152b-a910-43ca-b310-6918f4654ad0",
   "metadata": {},
   "outputs": [
    {
     "data": {
      "text/plain": [
       "6855.0"
      ]
     },
     "execution_count": 65,
     "metadata": {},
     "output_type": "execute_result"
    }
   ],
   "source": [
    "def dicount_based_pricing(item1, item2, item3):\n",
    "    price = item1+item2+item3\n",
    "    if price <= 0:\n",
    "        return \"Invalid Price\"\n",
    "    elif price <= 500:\n",
    "        discount = 20\n",
    "    elif price <= 1000:\n",
    "        discount = 50\n",
    "    elif price >1000:\n",
    "        discount = 75\n",
    "    discounted_price = (price*discount)/100\n",
    "    return discounted_price\n",
    "\n",
    "dicount_based_pricing(75, 9000, 65)"
   ]
  },
  {
   "cell_type": "markdown",
   "id": "5a7f13f2-4cff-405d-b4ba-e43b6b71869a",
   "metadata": {},
   "source": [
    "10. Write a program that checks if a given number is even or odd."
   ]
  },
  {
   "cell_type": "code",
   "execution_count": 64,
   "id": "ccc5ae2f-36f4-4022-af18-584ad524af91",
   "metadata": {},
   "outputs": [
    {
     "name": "stdout",
     "output_type": "stream",
     "text": [
      "The number is even\n"
     ]
    }
   ],
   "source": [
    "def check_for_even_odd(n):\n",
    "    if n%2 == 0:\n",
    "        print(\"The number is even\")\n",
    "    else:\n",
    "        print(\"The number is odd\")\n",
    "\n",
    "check_for_even_odd(56)"
   ]
  },
  {
   "cell_type": "markdown",
   "id": "00e4be87-fb30-4519-992d-ed001b262496",
   "metadata": {},
   "source": [
    "Intermediate Level:"
   ]
  },
  {
   "cell_type": "markdown",
   "id": "352cfc0b-c34a-49e2-90b0-c158d35f13b1",
   "metadata": {},
   "source": [
    "11. Write a program that calculates the roots of a quadratic equation ."
   ]
  },
  {
   "cell_type": "code",
   "execution_count": 66,
   "id": "8996ecfa-4a55-44ab-a728-d51da7e94754",
   "metadata": {},
   "outputs": [
    {
     "name": "stdout",
     "output_type": "stream",
     "text": [
      "Two real roots -2.3431457505076194 -13.65685424949238\n"
     ]
    }
   ],
   "source": [
    "import math\n",
    "\n",
    "def quadratic_roots(a,b,c):\n",
    "    discriminant = b**2 - 4*a*c\n",
    "    if discriminant < 0:\n",
    "        return \"No real roots\"\n",
    "    else:\n",
    "        if discriminant ==0:\n",
    "            root = -b/(2*a)\n",
    "        else:\n",
    "            root1 = (-b + math.sqrt(discriminant))/2*a\n",
    "            root2 = (-b - math.sqrt(discriminant))/2*a\n",
    "            print(\"Two real roots\", root1, root2)\n",
    "\n",
    "quadratic_roots(2,8,4)"
   ]
  },
  {
   "cell_type": "markdown",
   "id": "8c89a6b2-e2ea-41bf-b22c-3842e16a2ebd",
   "metadata": {},
   "source": [
    "12. Create a program that determines the day of the week based on the day number (1-7)."
   ]
  },
  {
   "cell_type": "code",
   "execution_count": 67,
   "id": "0d1d8bb0-7011-48c7-9cd3-19a806141521",
   "metadata": {},
   "outputs": [
    {
     "data": {
      "text/plain": [
       "'Sunday'"
      ]
     },
     "execution_count": 67,
     "metadata": {},
     "output_type": "execute_result"
    }
   ],
   "source": [
    "def day_of_week(n):\n",
    "    days = [\"Monday\", \"Tuesday\", \"Wednesday\", \"Thursday\", \"Friday\", \"Saturday\", \"Sunday\"]\n",
    "    if 1 <= n <=7:\n",
    "        return days[n-1]\n",
    "\n",
    "    else:\n",
    "        return \"Invalid Input\"\n",
    "\n",
    "day_of_week(7)"
   ]
  },
  {
   "cell_type": "markdown",
   "id": "0861fda7-43ac-4756-bc57-94ed85f829e3",
   "metadata": {},
   "source": [
    "13. Develop a program that calculates the factorial of a given number using recursion."
   ]
  },
  {
   "cell_type": "code",
   "execution_count": 87,
   "id": "922611d1-0f73-474d-908d-ceb050d3a3cc",
   "metadata": {},
   "outputs": [
    {
     "data": {
      "text/plain": [
       "120"
      ]
     },
     "execution_count": 87,
     "metadata": {},
     "output_type": "execute_result"
    }
   ],
   "source": [
    "def fact(n):\n",
    "    if n==1 or n==0:\n",
    "        return 1\n",
    "    else:\n",
    "        return n*fact(n-1)\n",
    "\n",
    "fact(5)"
   ]
  },
  {
   "cell_type": "markdown",
   "id": "6931220e-612e-4ff4-8e67-1761fc0f90b0",
   "metadata": {},
   "source": [
    "14. Write a program to find the largest among three numbers without using the `max()` function."
   ]
  },
  {
   "cell_type": "code",
   "execution_count": 68,
   "id": "421c1dc7-98d0-4f19-b0cd-4e47eff9a191",
   "metadata": {},
   "outputs": [
    {
     "name": "stdout",
     "output_type": "stream",
     "text": [
      "85 is greatest\n"
     ]
    }
   ],
   "source": [
    "def largest_no(a, b, c):\n",
    "    if a>=b and a>=c:\n",
    "        print(a, \"is greatest\")\n",
    "    elif b>=a and b>=c:\n",
    "        print(b, \"is greatest\")\n",
    "    else:\n",
    "        print(c, \"is greatest\")\n",
    "\n",
    "largest_no(10, 56, 85)"
   ]
  },
  {
   "cell_type": "markdown",
   "id": "f1f073e9-5649-4d23-8b9e-e6f650da8315",
   "metadata": {},
   "source": [
    "15. Create a program that simulates a basic ATM transaction menu."
   ]
  },
  {
   "cell_type": "code",
   "execution_count": 88,
   "id": "7fc1939b-b744-4bd4-81e1-6c5915fd8c91",
   "metadata": {},
   "outputs": [
    {
     "name": "stdout",
     "output_type": "stream",
     "text": [
      "You can withdraw the amount\n"
     ]
    }
   ],
   "source": [
    "def atm_sim(balance):\n",
    "    if balance <= 500:\n",
    "        print(\"Balance too low to withdraw\")\n",
    "    elif balance > 500:\n",
    "        print(\"You can withdraw the amount\")\n",
    "\n",
    "atm_sim(8000)"
   ]
  },
  {
   "cell_type": "markdown",
   "id": "f0d11eae-8cad-4e53-86e6-2180cc7b9fc0",
   "metadata": {},
   "source": [
    "16. Build a program that checks if a given string is a palindrome or not."
   ]
  },
  {
   "cell_type": "code",
   "execution_count": 69,
   "id": "83e9d4c9-250b-4dbc-acb1-5ef0eba37cb0",
   "metadata": {},
   "outputs": [
    {
     "name": "stdout",
     "output_type": "stream",
     "text": [
      "The string is Palindrome\n"
     ]
    }
   ],
   "source": [
    "def check_palindrome(my_string):\n",
    "    my_string = my_string.lower()\n",
    "    my_string = my_string.replace(\" \", \"\")\n",
    "    reversed_string = my_string[::-1]\n",
    "    if my_string == reversed_string:\n",
    "        print(\"The string is Palindrome\")\n",
    "    else:\n",
    "        print(\"The string is not Palindrome\")\n",
    "\n",
    "check_palindrome(\"Now sir a war is won\")"
   ]
  },
  {
   "cell_type": "markdown",
   "id": "27e7c1c4-00e7-4f4f-98b4-2a2aa44dffb9",
   "metadata": {},
   "source": [
    "17. Write a program that calculates the average of a list of numbers, excluding the smallest and largest values."
   ]
  },
  {
   "cell_type": "code",
   "execution_count": 81,
   "id": "427508da-f0e0-4929-bce3-6a80e9427783",
   "metadata": {},
   "outputs": [
    {
     "data": {
      "text/plain": [
       "5.0"
      ]
     },
     "execution_count": 81,
     "metadata": {},
     "output_type": "execute_result"
    }
   ],
   "source": [
    "def calc_avg(my_list):\n",
    "    if len(my_list) <=2:\n",
    "        return \"Invalid List\"\n",
    "    else:\n",
    "        length = len(my_list)-2\n",
    "        minimum = min(my_list)\n",
    "        maximum = max(my_list)\n",
    "        addition = sum(my_list)-maximum-minimum\n",
    "        avg = addition/length\n",
    "        return avg\n",
    "\n",
    "calc_avg([2, 8, 5])"
   ]
  },
  {
   "cell_type": "code",
   "execution_count": 73,
   "id": "f7a4d944-3db9-4bc0-bdd4-2ff5f587d312",
   "metadata": {},
   "outputs": [
    {
     "data": {
      "text/plain": [
       "8"
      ]
     },
     "execution_count": 73,
     "metadata": {},
     "output_type": "execute_result"
    }
   ],
   "source": [
    "l = [65,8,231,857]\n",
    "\n",
    "min(l)"
   ]
  },
  {
   "cell_type": "markdown",
   "id": "f5f37a7b-66e2-4d68-a020-2f39808ced56",
   "metadata": {},
   "source": [
    "18. Develop a program that converts a given temperature from Celsius to Fahrenheit."
   ]
  },
  {
   "cell_type": "code",
   "execution_count": 71,
   "id": "3aa4d961-f67f-412e-99c0-689e4345565f",
   "metadata": {},
   "outputs": [
    {
     "data": {
      "text/plain": [
       "[18.333333333333332, 20.0, 267.77777777777777, 1.6666666666666667, 20.0]"
      ]
     },
     "execution_count": 71,
     "metadata": {},
     "output_type": "execute_result"
    }
   ],
   "source": [
    "def convert_temp_to_C(my_list):\n",
    "    converted_list = []\n",
    "    for i in my_list:\n",
    "        C = (i-32)*5/9\n",
    "        converted_list.append(C)\n",
    "    return converted_list\n",
    "\n",
    "convert_temp_to_C([65,68,514,35,68])"
   ]
  },
  {
   "cell_type": "markdown",
   "id": "fe673921-fd93-4a8d-a60e-4e5c2c80cbbf",
   "metadata": {},
   "source": [
    "19. Create a program that simulates a basic calculator for addition, subtraction, multiplication, and division."
   ]
  },
  {
   "cell_type": "code",
   "execution_count": 89,
   "id": "df5f7914-e33c-49ae-a850-102881867b52",
   "metadata": {},
   "outputs": [
    {
     "data": {
      "text/plain": [
       "0"
      ]
     },
     "execution_count": 89,
     "metadata": {},
     "output_type": "execute_result"
    }
   ],
   "source": [
    "def add(x, y):\n",
    "    return x + y\n",
    "\n",
    "def subtract(x, y):\n",
    "    return x - y\n",
    "\n",
    "def multiply(x, y):\n",
    "    return x * y\n",
    "\n",
    "def divide(x, y):\n",
    "    if y == 0:\n",
    "        return \"Error: Division by zero\"\n",
    "    else:\n",
    "        return x / y\n",
    "\n",
    "multiply(5, 0)"
   ]
  },
  {
   "cell_type": "markdown",
   "id": "980f5fa2-0301-4707-a0cd-535f60ebfe2c",
   "metadata": {},
   "source": [
    "20. Write a program that determines the roots of a cubic equation using the Cardano formula."
   ]
  },
  {
   "cell_type": "code",
   "execution_count": 90,
   "id": "a9b662c2-90fc-4d21-bf8b-40bb71727dcc",
   "metadata": {},
   "outputs": [
    {
     "name": "stdin",
     "output_type": "stream",
     "text": [
      "Enter the coefficient of x^3:  5\n",
      "Enter the coefficient of x^2:  78\n",
      "Enter the coefficient of x:  6\n",
      "Enter the constant term:  3\n"
     ]
    },
    {
     "name": "stdout",
     "output_type": "stream",
     "text": [
      "Roots of the cubic equation:\n",
      "(-0.03740220654173232+8.941881677312693j)\n",
      "(-7.948439401381286-4.374442223302936j)\n",
      "(-7.614158392076982-4.567439454009757j)\n"
     ]
    }
   ],
   "source": [
    "import math\n",
    "\n",
    "def cubic_roots(a, b, c, d):\n",
    "    # Calculate discriminant and coefficients for depressed cubic\n",
    "    p = (3*a*c - b**2) / (3*a**2)\n",
    "    q = (2*b**3 - 9*a*b*c + 27*a**2*d) / (27*a**3)\n",
    "\n",
    "    discriminant = q**2 / 4 + p**3 / 27\n",
    "\n",
    "    if discriminant > 0:\n",
    "        # Three real roots\n",
    "        sqrt_discriminant = math.sqrt(discriminant)\n",
    "        u = (-q/2 + sqrt_discriminant)**(1/3)\n",
    "        v = (-q/2 - sqrt_discriminant)**(1/3)\n",
    "        roots = [\n",
    "            u + v - b / (3*a),\n",
    "            -(u + v) / 2 - b / (3*a) + (u - v) * math.sqrt(3) / 2j,\n",
    "            -(u + v) / 2 - b / (3*a) - (u - v) * math.sqrt(3) / 2j\n",
    "        ]\n",
    "    elif discriminant == 0:\n",
    "        # Three real roots, two of which are equal\n",
    "        u = (-q/2)**(1/3)\n",
    "        roots = [\n",
    "            2 * u - b / (3*a),\n",
    "            -u - b / (3*a)\n",
    "        ]\n",
    "    else:\n",
    "        # One real root, two complex roots\n",
    "        sqrt_discriminant = math.sqrt(-discriminant)\n",
    "        u = ((-q/2) + sqrt_discriminant)**(1/3)\n",
    "        v = ((-q/2) - sqrt_discriminant)**(1/3)\n",
    "        roots = [u + v - b / (3*a)]\n",
    "\n",
    "    return roots\n",
    "\n",
    "def main():\n",
    "    a = float(input(\"Enter the coefficient of x^3: \"))\n",
    "    b = float(input(\"Enter the coefficient of x^2: \"))\n",
    "    c = float(input(\"Enter the coefficient of x: \"))\n",
    "    d = float(input(\"Enter the constant term: \"))\n",
    "\n",
    "    roots = cubic_roots(a, b, c, d)\n",
    "    print(\"Roots of the cubic equation:\")\n",
    "    for root in roots:\n",
    "        print(root)\n",
    "\n",
    "if __name__ == \"__main__\":\n",
    "    main()\n"
   ]
  },
  {
   "cell_type": "markdown",
   "id": "3058675e-0274-4de3-8870-aba51cb2984f",
   "metadata": {},
   "source": [
    "Advanced Level:"
   ]
  },
  {
   "cell_type": "markdown",
   "id": "3c0fc0af-3c33-4592-b45b-042187c6eab0",
   "metadata": {},
   "source": [
    "21. Create a program that calculates the income tax based on the user's income and tax brackets."
   ]
  },
  {
   "cell_type": "code",
   "execution_count": 1,
   "id": "7aa37727-efb0-4cbc-a440-544ce1d4f2b1",
   "metadata": {},
   "outputs": [
    {
     "name": "stdout",
     "output_type": "stream",
     "text": [
      "Enter your income: 100\n",
      "Your tax for an income of $100.00 is: $10.00\n"
     ]
    }
   ],
   "source": [
    "def calculate_tax(income, tax_brackets):\n",
    "    tax = 0\n",
    "    previous_bracket_limit = 0\n",
    "    \n",
    "    for limit, rate in tax_brackets:\n",
    "        if income > limit:\n",
    "            tax += (limit - previous_bracket_limit) * rate\n",
    "            previous_bracket_limit = limit\n",
    "        else:\n",
    "            tax += (income - previous_bracket_limit) * rate\n",
    "            return tax\n",
    "\n",
    "    # For income above the highest bracket\n",
    "    return tax\n",
    "\n",
    "# Define tax brackets as (limit, rate) tuples\n",
    "tax_brackets = [\n",
    "    (9875, 0.10),    # Up to $9,875 at 10%\n",
    "    (40125, 0.12),   # Up to $40,125 at 12%\n",
    "    (85525, 0.22),   # Up to $85,525 at 22%\n",
    "    (163300, 0.24),  # Up to $163,300 at 24%\n",
    "    (207350, 0.32),  # Up to $207,350 at 32%\n",
    "    (518400, 0.35),  # Up to $518,400 at 35%\n",
    "    (float('inf'), 0.37)  # Above $518,400 at 37%\n",
    "]\n",
    "\n",
    "# Example usage\n",
    "income = float(input(\"Enter your income: \"))\n",
    "tax = calculate_tax(income, tax_brackets)\n",
    "print(f\"Your tax for an income of ${income:,.2f} is: ${tax:,.2f}\")\n"
   ]
  },
  {
   "cell_type": "markdown",
   "id": "b803f570-83ed-453b-ba1b-3b9cf55a3f7b",
   "metadata": {},
   "source": [
    "22. Write a program that simulates a rock-paper-scissors game against the computer."
   ]
  },
  {
   "cell_type": "code",
   "execution_count": 2,
   "id": "915b2282-34db-4b1f-a14f-0439ff5302f0",
   "metadata": {},
   "outputs": [
    {
     "name": "stdout",
     "output_type": "stream",
     "text": [
      "Enter your choice (rock, paper, or scissors): rock\n",
      "Computer chose: paper\n",
      "Computer wins!\n"
     ]
    }
   ],
   "source": [
    "import random\n",
    "\n",
    "def get_computer_choice():\n",
    "    choices = ['rock', 'paper', 'scissors']\n",
    "    return random.choice(choices)\n",
    "\n",
    "def get_user_choice():\n",
    "    while True:\n",
    "        choice = input(\"Enter your choice (rock, paper, or scissors): \").lower()\n",
    "        if choice in ['rock', 'paper', 'scissors']:\n",
    "            return choice\n",
    "        print(\"Invalid choice. Please enter rock, paper, or scissors.\")\n",
    "\n",
    "def determine_winner(user_choice, computer_choice):\n",
    "    if user_choice == computer_choice:\n",
    "        return 'draw'\n",
    "    elif (user_choice == 'rock' and computer_choice == 'scissors') or \\\n",
    "         (user_choice == 'scissors' and computer_choice == 'paper') or \\\n",
    "         (user_choice == 'paper' and computer_choice == 'rock'):\n",
    "        return 'user'\n",
    "    else:\n",
    "        return 'computer'\n",
    "\n",
    "def play_game():\n",
    "    user_choice = get_user_choice()\n",
    "    computer_choice = get_computer_choice()\n",
    "    \n",
    "    print(f\"Computer chose: {computer_choice}\")\n",
    "    \n",
    "    result = determine_winner(user_choice, computer_choice)\n",
    "    \n",
    "    if result == 'draw':\n",
    "        print(\"It's a draw!\")\n",
    "    elif result == 'user':\n",
    "        print(\"You win!\")\n",
    "    else:\n",
    "        print(\"Computer wins!\")\n",
    "\n",
    "# Example usage\n",
    "play_game()\n"
   ]
  },
  {
   "cell_type": "markdown",
   "id": "b8d4466f-247e-457a-89b0-85c70ba81b73",
   "metadata": {},
   "source": [
    "23. Develop a program that generates a random password based on user preferences (length, complexity)."
   ]
  },
  {
   "cell_type": "code",
   "execution_count": 3,
   "id": "276b683a-b440-47d6-a6e6-5a760fca149d",
   "metadata": {},
   "outputs": [
    {
     "name": "stdout",
     "output_type": "stream",
     "text": [
      "Enter the desired length of the password: 12\n",
      "Include uppercase letters? (yes/no): yes\n",
      "Include digits? (yes/no): yes\n",
      "Include special characters? (yes/no): yes\n",
      "Generated password: J/'2%\"MX=E.1\n"
     ]
    }
   ],
   "source": [
    "import random\n",
    "import string\n",
    "\n",
    "def generate_password(length, use_uppercase, use_digits, use_special):\n",
    "    # Define the character sets\n",
    "    lower = string.ascii_lowercase\n",
    "    upper = string.ascii_uppercase if use_uppercase else ''\n",
    "    digits = string.digits if use_digits else ''\n",
    "    special = string.punctuation if use_special else ''\n",
    "    \n",
    "    # Combine the character sets\n",
    "    all_characters = lower + upper + digits + special\n",
    "    \n",
    "    if not all_characters:\n",
    "        raise ValueError(\"At least one character set must be selected\")\n",
    "    \n",
    "    # Generate the password\n",
    "    password = ''.join(random.choice(all_characters) for _ in range(length))\n",
    "    \n",
    "    return password\n",
    "\n",
    "def main():\n",
    "    # Get user preferences\n",
    "    length = int(input(\"Enter the desired length of the password: \"))\n",
    "    use_uppercase = input(\"Include uppercase letters? (yes/no): \").lower() == 'yes'\n",
    "    use_digits = input(\"Include digits? (yes/no): \").lower() == 'yes'\n",
    "    use_special = input(\"Include special characters? (yes/no): \").lower() == 'yes'\n",
    "    \n",
    "    # Generate and display the password\n",
    "    password = generate_password(length, use_uppercase, use_digits, use_special)\n",
    "    print(\"Generated password:\", password)\n",
    "\n",
    "# Example usage\n",
    "main()\n"
   ]
  },
  {
   "cell_type": "markdown",
   "id": "71f35749-307d-48e1-ab5f-4e806a60a260",
   "metadata": {},
   "source": [
    "24. Create a program that implements a simple text-based adventure game with branching scenarios."
   ]
  },
  {
   "cell_type": "code",
   "execution_count": 4,
   "id": "053b19e7-3864-48bd-b6f1-3133539628ab",
   "metadata": {},
   "outputs": [
    {
     "name": "stdout",
     "output_type": "stream",
     "text": [
      "Welcome to the Adventure Game!\n",
      "You find yourself in a dark forest. There are paths leading north and south.\n",
      "Do you want to go north or south? north\n",
      "You head north and arrive at a clearing with a mysterious old house.\n",
      "There's a door and a window to enter the house.\n",
      "Do you want to enter through the door or the window? window\n",
      "You climb through the window and find yourself in a kitchen.\n",
      "There's a table with some food and a door leading to the garden.\n",
      "Do you want to eat the food or go to the garden? garden\n",
      "You go to the garden and find a beautiful flower. You enjoy the tranquility of the garden.\n"
     ]
    }
   ],
   "source": [
    "def intro():\n",
    "    print(\"Welcome to the Adventure Game!\")\n",
    "    print(\"You find yourself in a dark forest. There are paths leading north and south.\")\n",
    "    choice = input(\"Do you want to go north or south? \").strip().lower()\n",
    "    if choice == 'north':\n",
    "        forest_north()\n",
    "    elif choice == 'south':\n",
    "        forest_south()\n",
    "    else:\n",
    "        print(\"Invalid choice. Please choose 'north' or 'south'.\")\n",
    "        intro()\n",
    "\n",
    "def forest_north():\n",
    "    print(\"You head north and arrive at a clearing with a mysterious old house.\")\n",
    "    print(\"There's a door and a window to enter the house.\")\n",
    "    choice = input(\"Do you want to enter through the door or the window? \").strip().lower()\n",
    "    if choice == 'door':\n",
    "        house_door()\n",
    "    elif choice == 'window':\n",
    "        house_window()\n",
    "    else:\n",
    "        print(\"Invalid choice. Please choose 'door' or 'window'.\")\n",
    "        forest_north()\n",
    "\n",
    "def forest_south():\n",
    "    print(\"You head south and find a river with a boat.\")\n",
    "    print(\"You can either take the boat or follow the river bank.\")\n",
    "    choice = input(\"Do you want to take the boat or follow the river bank? \").strip().lower()\n",
    "    if choice == 'boat':\n",
    "        river_boat()\n",
    "    elif choice == 'river bank':\n",
    "        river_bank()\n",
    "    else:\n",
    "        print(\"Invalid choice. Please choose 'boat' or 'river bank'.\")\n",
    "        forest_south()\n",
    "\n",
    "def house_door():\n",
    "    print(\"You enter the house through the door and find yourself in a library filled with old books.\")\n",
    "    print(\"There's a book lying on a table and a staircase leading upstairs.\")\n",
    "    choice = input(\"Do you want to read the book or go upstairs? \").strip().lower()\n",
    "    if choice == 'book':\n",
    "        print(\"You read the book and find a treasure map! You win!\")\n",
    "    elif choice == 'upstairs':\n",
    "        print(\"You go upstairs and find a bed to rest. You feel refreshed and ready for more adventures!\")\n",
    "    else:\n",
    "        print(\"Invalid choice. Please choose 'book' or 'upstairs'.\")\n",
    "        house_door()\n",
    "\n",
    "def house_window():\n",
    "    print(\"You climb through the window and find yourself in a kitchen.\")\n",
    "    print(\"There's a table with some food and a door leading to the garden.\")\n",
    "    choice = input(\"Do you want to eat the food or go to the garden? \").strip().lower()\n",
    "    if choice == 'food':\n",
    "        print(\"You eat the food and feel very sleepy. You fall asleep and miss the rest of the adventure.\")\n",
    "    elif choice == 'garden':\n",
    "        print(\"You go to the garden and find a beautiful flower. You enjoy the tranquility of the garden.\")\n",
    "    else:\n",
    "        print(\"Invalid choice. Please choose 'food' or 'garden'.\")\n",
    "        house_window()\n",
    "\n",
    "def river_boat():\n",
    "    print(\"You take the boat and row down the river.\")\n",
    "    print(\"You see an island with a castle and a waterfall.\")\n",
    "    choice = input(\"Do you want to visit the island or go towards the waterfall? \").strip().lower()\n",
    "    if choice == 'island':\n",
    "        print(\"You visit the island and find a hidden treasure chest! You win!\")\n",
    "    elif choice == 'waterfall':\n",
    "        print(\"You go towards the waterfall and enjoy the refreshing mist. It's a relaxing experience.\")\n",
    "    else:\n",
    "        print(\"Invalid choice. Please choose 'island' or 'waterfall'.\")\n",
    "        river_boat()\n",
    "\n",
    "def river_bank():\n",
    "    print(\"You follow the river bank and come across a small village.\")\n",
    "    print(\"The villagers invite you to stay for the night or continue your journey.\")\n",
    "    choice = input(\"Do you want to stay with the villagers or continue your journey? \").strip().lower()\n",
    "    if choice == 'stay':\n",
    "        print(\"You stay with the villagers and have a pleasant evening with good food and stories.\")\n",
    "    elif choice == 'continue':\n",
    "        print(\"You continue your journey and find new adventures ahead.\")\n",
    "    else:\n",
    "        print(\"Invalid choice. Please choose 'stay' or 'continue'.\")\n",
    "        river_bank()\n",
    "\n",
    "# Start the game\n",
    "intro()\n"
   ]
  },
  {
   "cell_type": "markdown",
   "id": "8d894068-8d52-4b67-b53f-de9676a0a59e",
   "metadata": {},
   "source": [
    "25. Build a program that solves a linear equation for x, considering different cases."
   ]
  },
  {
   "cell_type": "code",
   "execution_count": 5,
   "id": "17eb0382-ad81-44f9-9853-1edddb12b0ab",
   "metadata": {},
   "outputs": [
    {
     "name": "stdout",
     "output_type": "stream",
     "text": [
      "Solve the linear equation ax + b = c\n",
      "Enter the coefficient a: 2\n",
      "Enter the coefficient b: 3\n",
      "Enter the constant c: 7\n",
      "The solution is x = 2.00\n"
     ]
    }
   ],
   "source": [
    "def solve_linear_equation(a, b, c):\n",
    "    if a == 0:\n",
    "        if b == c:\n",
    "            return \"Infinite solutions (any x satisfies the equation).\"\n",
    "        else:\n",
    "            return \"No solution (inconsistent equation).\"\n",
    "    else:\n",
    "        x = (c - b) / a\n",
    "        return f\"The solution is x = {x:.2f}\"\n",
    "\n",
    "def main():\n",
    "    print(\"Solve the linear equation ax + b = c\")\n",
    "    a = float(input(\"Enter the coefficient a: \"))\n",
    "    b = float(input(\"Enter the coefficient b: \"))\n",
    "    c = float(input(\"Enter the constant c: \"))\n",
    "    \n",
    "    result = solve_linear_equation(a, b, c)\n",
    "    print(result)\n",
    "\n",
    "# Example usage\n",
    "main()\n"
   ]
  },
  {
   "cell_type": "markdown",
   "id": "ec7b01f9-ef3a-4d54-8c9b-5dcf885f3e6f",
   "metadata": {},
   "source": [
    "26. Write a program that simulates a basic quiz game with multiple-choice questions and scoring."
   ]
  },
  {
   "cell_type": "code",
   "execution_count": 6,
   "id": "6ef495c5-eff8-42ed-b42b-2e36b38bbf54",
   "metadata": {},
   "outputs": [
    {
     "name": "stdout",
     "output_type": "stream",
     "text": [
      "What is the capital of France?\n",
      "1. Paris\n",
      "2. London\n",
      "3. Berlin\n",
      "4. Madrid\n",
      "Enter the number of your choice: Paris\n",
      "Invalid input. Please enter a number.\n",
      "Enter the number of your choice: 1\n",
      "Correct!\n",
      "\n",
      "What is 2 + 2?\n",
      "1. 3\n",
      "2. 4\n",
      "3. 5\n",
      "4. 6\n",
      "Enter the number of your choice: 4\n",
      "Incorrect.\n",
      "\n",
      "What is the largest planet in our solar system?\n",
      "1. Earth\n",
      "2. Mars\n",
      "3. Jupiter\n",
      "4. Saturn\n",
      "Enter the number of your choice: 3\n",
      "Correct!\n",
      "\n",
      "Quiz finished! Your final score is 2 out of 3.\n"
     ]
    }
   ],
   "source": [
    "def ask_question(question, choices, correct_index):\n",
    "    print(question)\n",
    "    for i, choice in enumerate(choices, 1):\n",
    "        print(f\"{i}. {choice}\")\n",
    "    \n",
    "    while True:\n",
    "        try:\n",
    "            answer = int(input(\"Enter the number of your choice: \")) - 1\n",
    "            if 0 <= answer < len(choices):\n",
    "                return answer == correct_index\n",
    "            else:\n",
    "                print(\"Invalid choice. Please enter a number corresponding to one of the options.\")\n",
    "        except ValueError:\n",
    "            print(\"Invalid input. Please enter a number.\")\n",
    "\n",
    "def quiz_game():\n",
    "    questions = [\n",
    "        {\n",
    "            \"question\": \"What is the capital of France?\",\n",
    "            \"choices\": [\"Paris\", \"London\", \"Berlin\", \"Madrid\"],\n",
    "            \"correct_index\": 0\n",
    "        },\n",
    "        {\n",
    "            \"question\": \"What is 2 + 2?\",\n",
    "            \"choices\": [\"3\", \"4\", \"5\", \"6\"],\n",
    "            \"correct_index\": 1\n",
    "        },\n",
    "        {\n",
    "            \"question\": \"What is the largest planet in our solar system?\",\n",
    "            \"choices\": [\"Earth\", \"Mars\", \"Jupiter\", \"Saturn\"],\n",
    "            \"correct_index\": 2\n",
    "        }\n",
    "    ]\n",
    "    \n",
    "    score = 0\n",
    "    for question in questions:\n",
    "        if ask_question(question[\"question\"], question[\"choices\"], question[\"correct_index\"]):\n",
    "            print(\"Correct!\")\n",
    "            score += 1\n",
    "        else:\n",
    "            print(\"Incorrect.\")\n",
    "        print()\n",
    "    \n",
    "    print(f\"Quiz finished! Your final score is {score} out of {len(questions)}.\")\n",
    "\n",
    "# Example usage\n",
    "quiz_game()\n"
   ]
  },
  {
   "cell_type": "markdown",
   "id": "e7c09299-0fb3-4b9c-b77b-621dc4aa65b8",
   "metadata": {},
   "source": [
    "27. Develop a program that determines whether a given year is a prime number or not."
   ]
  },
  {
   "cell_type": "code",
   "execution_count": 7,
   "id": "a5db7f6c-ee32-4ceb-8d24-ed6dcb4f4d2d",
   "metadata": {},
   "outputs": [
    {
     "name": "stdout",
     "output_type": "stream",
     "text": [
      "Enter a year: 2024\n",
      "2024 is not a prime number.\n"
     ]
    }
   ],
   "source": [
    "def is_prime(n):\n",
    "    \"\"\"Check if a number is a prime number.\"\"\"\n",
    "    if n <= 1:\n",
    "        return False\n",
    "    if n <= 3:\n",
    "        return True\n",
    "    if n % 2 == 0 or n % 3 == 0:\n",
    "        return False\n",
    "    i = 5\n",
    "    while i * i <= n:\n",
    "        if n % i == 0 or n % (i + 2) == 0:\n",
    "            return False\n",
    "        i += 6\n",
    "    return True\n",
    "\n",
    "def main():\n",
    "    year = int(input(\"Enter a year: \"))\n",
    "    if is_prime(year):\n",
    "        print(f\"{year} is a prime number.\")\n",
    "    else:\n",
    "        print(f\"{year} is not a prime number.\")\n",
    "\n",
    "# Example usage\n",
    "main()\n"
   ]
  },
  {
   "cell_type": "markdown",
   "id": "a69a7b7b-8ab6-472f-8e74-9b93384367f7",
   "metadata": {},
   "source": [
    "28. Create a program that sorts three numbers in ascending order using conditional statements."
   ]
  },
  {
   "cell_type": "code",
   "execution_count": 1,
   "id": "1428c799-f055-4e48-83f1-2fb57282bc2f",
   "metadata": {},
   "outputs": [
    {
     "name": "stdout",
     "output_type": "stream",
     "text": [
      "Enter three numbers to sort:\n"
     ]
    },
    {
     "name": "stdin",
     "output_type": "stream",
     "text": [
      "Enter the first number:  78\n",
      "Enter the second number:  46\n",
      "Enter the third number:  23\n"
     ]
    },
    {
     "name": "stdout",
     "output_type": "stream",
     "text": [
      "Numbers in ascending order: (23.0, 46.0, 78.0)\n"
     ]
    }
   ],
   "source": [
    "def sort_three_numbers(a, b, c):\n",
    "    if a > b:\n",
    "        a, b = b, a\n",
    "    if b > c:\n",
    "        b, c = c, b\n",
    "    if a > b:\n",
    "        a, b = b, a\n",
    "    return a, b, c\n",
    "\n",
    "def main():\n",
    "    print(\"Enter three numbers to sort:\")\n",
    "    a = float(input(\"Enter the first number: \"))\n",
    "    b = float(input(\"Enter the second number: \"))\n",
    "    c = float(input(\"Enter the third number: \"))\n",
    "    \n",
    "    sorted_numbers = sort_three_numbers(a, b, c)\n",
    "    print(\"Numbers in ascending order:\", sorted_numbers)\n",
    "\n",
    "# Example usage\n",
    "main()\n"
   ]
  },
  {
   "cell_type": "markdown",
   "id": "52daabfa-8fb5-4df4-a97d-5ffbf3e313be",
   "metadata": {},
   "source": [
    "29. Build a program that determines the roots of a quartic equation using numerical methods."
   ]
  },
  {
   "cell_type": "code",
   "execution_count": 2,
   "id": "8373c2c8-29e1-45ed-a8ac-39e3b13d01c1",
   "metadata": {},
   "outputs": [
    {
     "name": "stdout",
     "output_type": "stream",
     "text": [
      "Enter the coefficients of the quartic equation ax^4 + bx^3 + cx^2 + dx + e = 0\n"
     ]
    },
    {
     "name": "stdin",
     "output_type": "stream",
     "text": [
      "Enter coefficient a:  1\n",
      "Enter coefficient b:  0\n",
      "Enter coefficient c:  -5\n",
      "Enter coefficient d:  0\n",
      "Enter coefficient e:  4\n"
     ]
    },
    {
     "name": "stdout",
     "output_type": "stream",
     "text": [
      "The roots of the quartic equation are:\n",
      "-2.0000\n",
      "2.0000\n",
      "-1.0000\n",
      "1.0000\n"
     ]
    }
   ],
   "source": [
    "import numpy as np\n",
    "\n",
    "def find_quartic_roots(a, b, c, d, e):\n",
    "    # Coefficients of the quartic polynomial\n",
    "    coefficients = [a, b, c, d, e]\n",
    "    \n",
    "    # Find the roots using numpy's roots function\n",
    "    roots = np.roots(coefficients)\n",
    "    \n",
    "    return roots\n",
    "\n",
    "def main():\n",
    "    print(\"Enter the coefficients of the quartic equation ax^4 + bx^3 + cx^2 + dx + e = 0\")\n",
    "    a = float(input(\"Enter coefficient a: \"))\n",
    "    b = float(input(\"Enter coefficient b: \"))\n",
    "    c = float(input(\"Enter coefficient c: \"))\n",
    "    d = float(input(\"Enter coefficient d: \"))\n",
    "    e = float(input(\"Enter coefficient e: \"))\n",
    "    \n",
    "    # Find the roots of the quartic equation\n",
    "    roots = find_quartic_roots(a, b, c, d, e)\n",
    "    \n",
    "    print(\"The roots of the quartic equation are:\")\n",
    "    for root in roots:\n",
    "        print(f\"{root:.4f}\")\n",
    "\n",
    "# Example usage\n",
    "main()\n"
   ]
  },
  {
   "cell_type": "markdown",
   "id": "6765afe0-f771-4b2d-9987-b69b16881bdb",
   "metadata": {},
   "source": [
    "30. Write a program that calculates the BMI (Body Mass Index) and provides health recommendations based\n",
    "on the user's input."
   ]
  },
  {
   "cell_type": "code",
   "execution_count": 3,
   "id": "3692a960-5e7a-4e5f-8183-f624977f548d",
   "metadata": {},
   "outputs": [
    {
     "name": "stdout",
     "output_type": "stream",
     "text": [
      "BMI Calculator\n"
     ]
    },
    {
     "name": "stdin",
     "output_type": "stream",
     "text": [
      "Enter your weight in kilograms:  70\n",
      "Enter your height in meters:  1.75\n"
     ]
    },
    {
     "name": "stdout",
     "output_type": "stream",
     "text": [
      "Your BMI is: 22.86\n",
      "Category: Normal weight\n",
      "Recommendation: You are within a healthy weight range. Maintain a balanced diet and regular exercise.\n"
     ]
    }
   ],
   "source": [
    "def calculate_bmi(weight, height):\n",
    "    \"\"\"Calculate BMI.\"\"\"\n",
    "    return weight / (height ** 2)\n",
    "\n",
    "def get_bmi_category(bmi):\n",
    "    \"\"\"Determine BMI category and provide recommendations.\"\"\"\n",
    "    if bmi < 18.5:\n",
    "        return \"Underweight\", \"You should consider increasing your calorie intake and consult a healthcare provider for personalized advice.\"\n",
    "    elif 18.5 <= bmi < 24.9:\n",
    "        return \"Normal weight\", \"You are within a healthy weight range. Maintain a balanced diet and regular exercise.\"\n",
    "    elif 25 <= bmi < 29.9:\n",
    "        return \"Overweight\", \"Consider adopting a healthier diet and increasing physical activity to reach a healthier weight.\"\n",
    "    else:\n",
    "        return \"Obesity\", \"It is important to consult a healthcare provider for a personalized plan to manage your weight.\"\n",
    "\n",
    "def main():\n",
    "    print(\"BMI Calculator\")\n",
    "    \n",
    "    # Get user input\n",
    "    weight = float(input(\"Enter your weight in kilograms: \"))\n",
    "    height = float(input(\"Enter your height in meters: \"))\n",
    "    \n",
    "    # Calculate BMI\n",
    "    bmi = calculate_bmi(weight, height)\n",
    "    \n",
    "    # Get BMI category and recommendations\n",
    "    category, recommendation = get_bmi_category(bmi)\n",
    "    \n",
    "    # Display results\n",
    "    print(f\"Your BMI is: {bmi:.2f}\")\n",
    "    print(f\"Category: {category}\")\n",
    "    print(f\"Recommendation: {recommendation}\")\n",
    "\n",
    "# Example usage\n",
    "main()\n"
   ]
  },
  {
   "cell_type": "markdown",
   "id": "8d4ac717-ee9e-4278-92dc-50b07bfd38c6",
   "metadata": {},
   "source": [
    "Challenge Level:"
   ]
  },
  {
   "cell_type": "markdown",
   "id": "bc8ef631-ff18-4ef8-ace2-f94cf0f087e8",
   "metadata": {},
   "source": [
    "31. Create a program that validates a password based on complexity rules (length, characters, etc.)."
   ]
  },
  {
   "cell_type": "code",
   "execution_count": 4,
   "id": "8270204c-998d-457b-aceb-1ac0f146bc1e",
   "metadata": {},
   "outputs": [
    {
     "name": "stdout",
     "output_type": "stream",
     "text": [
      "Password Validator\n"
     ]
    },
    {
     "name": "stdin",
     "output_type": "stream",
     "text": [
      "Enter your password:  djkkkcll$j112\n"
     ]
    },
    {
     "name": "stdout",
     "output_type": "stream",
     "text": [
      "Password is invalid. It must meet the following criteria:\n",
      "1. At least 8 characters long.\n",
      "2. Contains at least one uppercase letter.\n",
      "3. Contains at least one lowercase letter.\n",
      "4. Contains at least one digit.\n",
      "5. Contains at least one special character (e.g., !, @, #, $, etc.).\n"
     ]
    }
   ],
   "source": [
    "import re\n",
    "\n",
    "def validate_password(password):\n",
    "    \"\"\"Validate password based on complexity rules.\"\"\"\n",
    "    # Define complexity rules\n",
    "    length_rule = len(password) >= 8\n",
    "    uppercase_rule = re.search(r'[A-Z]', password)\n",
    "    lowercase_rule = re.search(r'[a-z]', password)\n",
    "    digit_rule = re.search(r'[0-9]', password)\n",
    "    special_char_rule = re.search(r'[!@#$%^&*(),.?\":{}|<>]', password)\n",
    "    \n",
    "    # Check if all rules are met\n",
    "    if length_rule and uppercase_rule and lowercase_rule and digit_rule and special_char_rule:\n",
    "        return True\n",
    "    else:\n",
    "        return False\n",
    "\n",
    "def main():\n",
    "    print(\"Password Validator\")\n",
    "    \n",
    "    # Get user input\n",
    "    password = input(\"Enter your password: \")\n",
    "    \n",
    "    # Validate password\n",
    "    if validate_password(password):\n",
    "        print(\"Password is valid.\")\n",
    "    else:\n",
    "        print(\"Password is invalid. It must meet the following criteria:\")\n",
    "        print(\"1. At least 8 characters long.\")\n",
    "        print(\"2. Contains at least one uppercase letter.\")\n",
    "        print(\"3. Contains at least one lowercase letter.\")\n",
    "        print(\"4. Contains at least one digit.\")\n",
    "        print(\"5. Contains at least one special character (e.g., !, @, #, $, etc.).\")\n",
    "\n",
    "# Example usage\n",
    "main()\n"
   ]
  },
  {
   "cell_type": "markdown",
   "id": "5bb04210-1bc1-437f-a894-a00faf9ed010",
   "metadata": {},
   "source": [
    "32. Develop a program that performs matrix addition and subtraction based on user input."
   ]
  },
  {
   "cell_type": "code",
   "execution_count": 5,
   "id": "a4946649-92fc-4db3-960f-5c21b68948a7",
   "metadata": {},
   "outputs": [
    {
     "name": "stdout",
     "output_type": "stream",
     "text": [
      "Matrix Addition and Subtraction\n"
     ]
    },
    {
     "name": "stdin",
     "output_type": "stream",
     "text": [
      "Enter the number of rows for the matrices:  2\n",
      "Enter the number of columns for the matrices:  2\n"
     ]
    },
    {
     "name": "stdout",
     "output_type": "stream",
     "text": [
      "Matrix 1:\n",
      "Enter the elements for a 2x2 matrix:\n"
     ]
    },
    {
     "name": "stdin",
     "output_type": "stream",
     "text": [
      "Row 1:  1 2\n",
      "Row 2:  3 4\n"
     ]
    },
    {
     "name": "stdout",
     "output_type": "stream",
     "text": [
      "Matrix 2:\n",
      "Enter the elements for a 2x2 matrix:\n"
     ]
    },
    {
     "name": "stdin",
     "output_type": "stream",
     "text": [
      "Row 1:  5 6\n",
      "Row 2:  7 8\n",
      "Enter 'add' for addition or 'subtract' for subtraction:  add\n"
     ]
    },
    {
     "name": "stdout",
     "output_type": "stream",
     "text": [
      "Result of addition:\n",
      "6.0 8.0\n",
      "10.0 12.0\n"
     ]
    }
   ],
   "source": [
    "def input_matrix(rows, cols):\n",
    "    \"\"\"Input a matrix from the user.\"\"\"\n",
    "    matrix = []\n",
    "    print(f\"Enter the elements for a {rows}x{cols} matrix:\")\n",
    "    for i in range(rows):\n",
    "        row = list(map(float, input(f\"Row {i + 1}: \").split()))\n",
    "        while len(row) != cols:\n",
    "            print(f\"Error: You must enter exactly {cols} elements.\")\n",
    "            row = list(map(float, input(f\"Row {i + 1}: \").split()))\n",
    "        matrix.append(row)\n",
    "    return matrix\n",
    "\n",
    "def print_matrix(matrix):\n",
    "    \"\"\"Print a matrix.\"\"\"\n",
    "    for row in matrix:\n",
    "        print(\" \".join(map(str, row)))\n",
    "\n",
    "def add_matrices(matrix1, matrix2):\n",
    "    \"\"\"Add two matrices.\"\"\"\n",
    "    return [[matrix1[i][j] + matrix2[i][j] for j in range(len(matrix1[0]))] for i in range(len(matrix1))]\n",
    "\n",
    "def subtract_matrices(matrix1, matrix2):\n",
    "    \"\"\"Subtract two matrices.\"\"\"\n",
    "    return [[matrix1[i][j] - matrix2[i][j] for j in range(len(matrix1[0]))] for i in range(len(matrix1))]\n",
    "\n",
    "def main():\n",
    "    print(\"Matrix Addition and Subtraction\")\n",
    "    \n",
    "    # Input dimensions for matrices\n",
    "    rows = int(input(\"Enter the number of rows for the matrices: \"))\n",
    "    cols = int(input(\"Enter the number of columns for the matrices: \"))\n",
    "    \n",
    "    # Input matrices\n",
    "    print(\"Matrix 1:\")\n",
    "    matrix1 = input_matrix(rows, cols)\n",
    "    \n",
    "    print(\"Matrix 2:\")\n",
    "    matrix2 = input_matrix(rows, cols)\n",
    "    \n",
    "    # Choose operation\n",
    "    operation = input(\"Enter 'add' for addition or 'subtract' for subtraction: \").strip().lower()\n",
    "    \n",
    "    if operation == 'add':\n",
    "        result = add_matrices(matrix1, matrix2)\n",
    "        print(\"Result of addition:\")\n",
    "    elif operation == 'subtract':\n",
    "        result = subtract_matrices(matrix1, matrix2)\n",
    "        print(\"Result of subtraction:\")\n",
    "    else:\n",
    "        print(\"Invalid operation. Please enter 'add' or 'subtract'.\")\n",
    "        return\n",
    "    \n",
    "    # Print result\n",
    "    print_matrix(result)\n",
    "\n",
    "# Example usage\n",
    "main()\n"
   ]
  },
  {
   "cell_type": "markdown",
   "id": "4faad5e8-cced-4a02-97ad-a2ff0e64f0a2",
   "metadata": {},
   "source": [
    "33. Write a program that calculates the greatest common divisor (GCD) of two numbers using the Euclidean\n",
    "algorithm."
   ]
  },
  {
   "cell_type": "code",
   "execution_count": 6,
   "id": "3c0e02af-dfb4-4cb0-a746-5e42fd9f655c",
   "metadata": {},
   "outputs": [
    {
     "name": "stdout",
     "output_type": "stream",
     "text": [
      "GCD Calculator\n"
     ]
    },
    {
     "name": "stdin",
     "output_type": "stream",
     "text": [
      "Enter the first number:  48\n",
      "Enter the second number:  18\n"
     ]
    },
    {
     "name": "stdout",
     "output_type": "stream",
     "text": [
      "The GCD of 48 and 18 is 6.\n"
     ]
    }
   ],
   "source": [
    "def gcd(a, b):\n",
    "    \"\"\"Calculate the GCD of two numbers using the Euclidean algorithm.\"\"\"\n",
    "    while b != 0:\n",
    "        a, b = b, a % b\n",
    "    return a\n",
    "\n",
    "def main():\n",
    "    print(\"GCD Calculator\")\n",
    "    \n",
    "    # Get user input\n",
    "    a = int(input(\"Enter the first number: \"))\n",
    "    b = int(input(\"Enter the second number: \"))\n",
    "    \n",
    "    # Calculate GCD\n",
    "    result = gcd(a, b)\n",
    "    \n",
    "    # Display result\n",
    "    print(f\"The GCD of {a} and {b} is {result}.\")\n",
    "\n",
    "# Example usage\n",
    "main()\n"
   ]
  },
  {
   "cell_type": "markdown",
   "id": "364847ea-2721-4096-9148-5f6b8ac712b5",
   "metadata": {},
   "source": [
    "34. Build a program that performs matrix multiplication using nested loops and conditional statements."
   ]
  },
  {
   "cell_type": "code",
   "execution_count": 7,
   "id": "da1cb8e7-3241-409f-908c-4bea4c414f96",
   "metadata": {},
   "outputs": [
    {
     "name": "stdout",
     "output_type": "stream",
     "text": [
      "Matrix Multiplication\n"
     ]
    },
    {
     "name": "stdin",
     "output_type": "stream",
     "text": [
      "Enter the number of rows for the first matrix:  2\n",
      "Enter the number of columns for the first matrix:  3\n"
     ]
    },
    {
     "name": "stdout",
     "output_type": "stream",
     "text": [
      "Matrix 1:\n",
      "Enter the elements for a 2x3 matrix:\n"
     ]
    },
    {
     "name": "stdin",
     "output_type": "stream",
     "text": [
      "Row 1:  123\n"
     ]
    },
    {
     "name": "stdout",
     "output_type": "stream",
     "text": [
      "Error: You must enter exactly 3 elements.\n"
     ]
    },
    {
     "name": "stdin",
     "output_type": "stream",
     "text": [
      "Row 1:  456\n"
     ]
    },
    {
     "name": "stdout",
     "output_type": "stream",
     "text": [
      "Error: You must enter exactly 3 elements.\n"
     ]
    },
    {
     "name": "stdin",
     "output_type": "stream",
     "text": [
      "Row 1:  1 2 3\n",
      "Row 2:  4 5 6\n",
      "Enter the number of rows for the second matrix:  3\n",
      "Enter the number of columns for the second matrix:  2\n"
     ]
    },
    {
     "name": "stdout",
     "output_type": "stream",
     "text": [
      "Matrix 2:\n",
      "Enter the elements for a 3x2 matrix:\n"
     ]
    },
    {
     "name": "stdin",
     "output_type": "stream",
     "text": [
      "Row 1:  7 8\n",
      "Row 2:  9 10\n",
      "Row 3:  11 12\n"
     ]
    },
    {
     "name": "stdout",
     "output_type": "stream",
     "text": [
      "Result of matrix multiplication:\n",
      "58.0 64.0\n",
      "139.0 154.0\n"
     ]
    }
   ],
   "source": [
    "def input_matrix(rows, cols):\n",
    "    \"\"\"Input a matrix from the user.\"\"\"\n",
    "    matrix = []\n",
    "    print(f\"Enter the elements for a {rows}x{cols} matrix:\")\n",
    "    for i in range(rows):\n",
    "        row = list(map(float, input(f\"Row {i + 1}: \").split()))\n",
    "        while len(row) != cols:\n",
    "            print(f\"Error: You must enter exactly {cols} elements.\")\n",
    "            row = list(map(float, input(f\"Row {i + 1}: \").split()))\n",
    "        matrix.append(row)\n",
    "    return matrix\n",
    "\n",
    "def print_matrix(matrix):\n",
    "    \"\"\"Print a matrix.\"\"\"\n",
    "    for row in matrix:\n",
    "        print(\" \".join(map(str, row)))\n",
    "\n",
    "def multiply_matrices(matrix1, matrix2):\n",
    "    \"\"\"Multiply two matrices.\"\"\"\n",
    "    rows1 = len(matrix1)\n",
    "    cols1 = len(matrix1[0])\n",
    "    rows2 = len(matrix2)\n",
    "    cols2 = len(matrix2[0])\n",
    "    \n",
    "    # Check if multiplication is possible\n",
    "    if cols1 != rows2:\n",
    "        raise ValueError(\"Number of columns in the first matrix must be equal to the number of rows in the second matrix.\")\n",
    "    \n",
    "    # Initialize the result matrix with zeros\n",
    "    result = [[0 for _ in range(cols2)] for _ in range(rows1)]\n",
    "    \n",
    "    # Perform matrix multiplication\n",
    "    for i in range(rows1):\n",
    "        for j in range(cols2):\n",
    "            for k in range(cols1):\n",
    "                result[i][j] += matrix1[i][k] * matrix2[k][j]\n",
    "    \n",
    "    return result\n",
    "\n",
    "def main():\n",
    "    print(\"Matrix Multiplication\")\n",
    "    \n",
    "    # Input dimensions for first matrix\n",
    "    rows1 = int(input(\"Enter the number of rows for the first matrix: \"))\n",
    "    cols1 = int(input(\"Enter the number of columns for the first matrix: \"))\n",
    "    \n",
    "    # Input first matrix\n",
    "    print(\"Matrix 1:\")\n",
    "    matrix1 = input_matrix(rows1, cols1)\n",
    "    \n",
    "    # Input dimensions for second matrix\n",
    "    rows2 = int(input(\"Enter the number of rows for the second matrix: \"))\n",
    "    cols2 = int(input(\"Enter the number of columns for the second matrix: \"))\n",
    "    \n",
    "    # Input second matrix\n",
    "    print(\"Matrix 2:\")\n",
    "    matrix2 = input_matrix(rows2, cols2)\n",
    "    \n",
    "    try:\n",
    "        # Perform matrix multiplication\n",
    "        result = multiply_matrices(matrix1, matrix2)\n",
    "        \n",
    "        # Print result\n",
    "        print(\"Result of matrix multiplication:\")\n",
    "        print_matrix(result)\n",
    "    except ValueError as e:\n",
    "        print(e)\n",
    "\n",
    "# Example usage\n",
    "main()\n"
   ]
  },
  {
   "cell_type": "markdown",
   "id": "de3877e2-a95e-4a95-9fe4-8953dc90b967",
   "metadata": {},
   "source": [
    "35. Create a program that simulates a basic text-based tic-tac-toe game against the computer."
   ]
  },
  {
   "cell_type": "code",
   "execution_count": 8,
   "id": "f48dff1b-8dbd-468e-8b2c-78af65602ced",
   "metadata": {},
   "outputs": [
    {
     "name": "stdout",
     "output_type": "stream",
     "text": [
      "Tic-Tac-Toe Game\n",
      "Board:\n",
      "  |   |  \n",
      "-----\n",
      "  |   |  \n",
      "-----\n",
      "  |   |  \n",
      "-----\n"
     ]
    },
    {
     "name": "stdin",
     "output_type": "stream",
     "text": [
      "Enter the row (1, 2, or 3):  1\n",
      "Enter the column (1, 2, or 3):  1\n"
     ]
    },
    {
     "name": "stdout",
     "output_type": "stream",
     "text": [
      "Board:\n",
      "X |   |  \n",
      "-----\n",
      "  |   |  \n",
      "-----\n",
      "  |   |  \n",
      "-----\n",
      "Board:\n",
      "X |   |  \n",
      "-----\n",
      "  |   |  \n",
      "-----\n",
      "O |   |  \n",
      "-----\n"
     ]
    },
    {
     "name": "stdin",
     "output_type": "stream",
     "text": [
      "Enter the row (1, 2, or 3):  2\n",
      "Enter the column (1, 2, or 3):  2\n"
     ]
    },
    {
     "name": "stdout",
     "output_type": "stream",
     "text": [
      "Board:\n",
      "X |   |  \n",
      "-----\n",
      "  | X |  \n",
      "-----\n",
      "O |   |  \n",
      "-----\n",
      "Board:\n",
      "X |   |  \n",
      "-----\n",
      "O | X |  \n",
      "-----\n",
      "O |   |  \n",
      "-----\n"
     ]
    },
    {
     "name": "stdin",
     "output_type": "stream",
     "text": [
      "Enter the row (1, 2, or 3):  3\n",
      "Enter the column (1, 2, or 3):  3\n"
     ]
    },
    {
     "name": "stdout",
     "output_type": "stream",
     "text": [
      "Board:\n",
      "X |   |  \n",
      "-----\n",
      "O | X |  \n",
      "-----\n",
      "O |   | X\n",
      "-----\n",
      "Congratulations! You win!\n"
     ]
    }
   ],
   "source": [
    "import random\n",
    "\n",
    "def print_board(board):\n",
    "    \"\"\"Print the Tic-Tac-Toe board.\"\"\"\n",
    "    print(\"Board:\")\n",
    "    for row in board:\n",
    "        print(\" | \".join(row))\n",
    "        print(\"-\" * 5)\n",
    "\n",
    "def check_winner(board, player):\n",
    "    \"\"\"Check if the given player has won.\"\"\"\n",
    "    win_conditions = [\n",
    "        [board[0][0], board[0][1], board[0][2]],  # Top row\n",
    "        [board[1][0], board[1][1], board[1][2]],  # Middle row\n",
    "        [board[2][0], board[2][1], board[2][2]],  # Bottom row\n",
    "        [board[0][0], board[1][0], board[2][0]],  # Left column\n",
    "        [board[0][1], board[1][1], board[2][1]],  # Middle column\n",
    "        [board[0][2], board[1][2], board[2][2]],  # Right column\n",
    "        [board[0][0], board[1][1], board[2][2]],  # Diagonal from top-left to bottom-right\n",
    "        [board[0][2], board[1][1], board[2][0]]   # Diagonal from top-right to bottom-left\n",
    "    ]\n",
    "    return [player, player, player] in win_conditions\n",
    "\n",
    "def check_draw(board):\n",
    "    \"\"\"Check if the board is full and there is no winner.\"\"\"\n",
    "    return all(cell != ' ' for row in board for cell in row)\n",
    "\n",
    "def player_move(board):\n",
    "    \"\"\"Handle the player's move.\"\"\"\n",
    "    while True:\n",
    "        try:\n",
    "            row = int(input(\"Enter the row (1, 2, or 3): \")) - 1\n",
    "            col = int(input(\"Enter the column (1, 2, or 3): \")) - 1\n",
    "            if board[row][col] == ' ':\n",
    "                board[row][col] = 'X'\n",
    "                break\n",
    "            else:\n",
    "                print(\"Cell is already taken. Choose another.\")\n",
    "        except (IndexError, ValueError):\n",
    "            print(\"Invalid input. Please enter numbers between 1 and 3.\")\n",
    "\n",
    "def computer_move(board):\n",
    "    \"\"\"Handle the computer's move.\"\"\"\n",
    "    empty_cells = [(i, j) for i in range(3) for j in range(3) if board[i][j] == ' ']\n",
    "    if empty_cells:\n",
    "        row, col = random.choice(empty_cells)\n",
    "        board[row][col] = 'O'\n",
    "\n",
    "def main():\n",
    "    print(\"Tic-Tac-Toe Game\")\n",
    "    board = [[' ' for _ in range(3)] for _ in range(3)]\n",
    "    print_board(board)\n",
    "    \n",
    "    while True:\n",
    "        # Player's move\n",
    "        player_move(board)\n",
    "        print_board(board)\n",
    "        if check_winner(board, 'X'):\n",
    "            print(\"Congratulations! You win!\")\n",
    "            break\n",
    "        if check_draw(board):\n",
    "            print(\"It's a draw!\")\n",
    "            break\n",
    "        \n",
    "        # Computer's move\n",
    "        computer_move(board)\n",
    "        print_board(board)\n",
    "        if check_winner(board, 'O'):\n",
    "            print(\"Computer wins!\")\n",
    "            break\n",
    "        if check_draw(board):\n",
    "            print(\"It's a draw!\")\n",
    "            break\n",
    "\n",
    "# Example usage\n",
    "main()\n",
    "\n"
   ]
  },
  {
   "cell_type": "markdown",
   "id": "4f1de851-6baa-463c-bb4c-5f6b85b5cc42",
   "metadata": {},
   "source": [
    "36. Write a program that generates Fibonacci numbers up to a specified term using iterative methods."
   ]
  },
  {
   "cell_type": "code",
   "execution_count": 9,
   "id": "8487790c-21d9-4c7e-9c9d-a542769af340",
   "metadata": {},
   "outputs": [
    {
     "name": "stdout",
     "output_type": "stream",
     "text": [
      "Fibonacci Number Generator\n"
     ]
    },
    {
     "name": "stdin",
     "output_type": "stream",
     "text": [
      "Enter the number of terms:  10\n"
     ]
    },
    {
     "name": "stdout",
     "output_type": "stream",
     "text": [
      "Fibonacci sequence up to term 10 :\n",
      "[0, 1, 1, 2, 3, 5, 8, 13, 21, 34]\n"
     ]
    }
   ],
   "source": [
    "def generate_fibonacci(n):\n",
    "    \"\"\"Generate Fibonacci numbers up to the nth term using iterative methods.\"\"\"\n",
    "    if n <= 0:\n",
    "        return []\n",
    "    elif n == 1:\n",
    "        return [0]\n",
    "    \n",
    "    fibonacci_numbers = [0, 1]\n",
    "    \n",
    "    while len(fibonacci_numbers) < n:\n",
    "        next_term = fibonacci_numbers[-1] + fibonacci_numbers[-2]\n",
    "        fibonacci_numbers.append(next_term)\n",
    "    \n",
    "    return fibonacci_numbers\n",
    "\n",
    "def main():\n",
    "    print(\"Fibonacci Number Generator\")\n",
    "    \n",
    "    # Get user input\n",
    "    try:\n",
    "        terms = int(input(\"Enter the number of terms: \"))\n",
    "        if terms < 0:\n",
    "            raise ValueError(\"Number of terms must be a non-negative integer.\")\n",
    "    except ValueError as e:\n",
    "        print(f\"Invalid input: {e}\")\n",
    "        return\n",
    "    \n",
    "    # Generate Fibonacci sequence\n",
    "    fibonacci_sequence = generate_fibonacci(terms)\n",
    "    \n",
    "    # Display results\n",
    "    print(\"Fibonacci sequence up to term\", terms, \":\")\n",
    "    print(fibonacci_sequence)\n",
    "\n",
    "# Example usage\n",
    "main()\n"
   ]
  },
  {
   "cell_type": "markdown",
   "id": "1b79c00a-f9d1-436e-865e-c3c484a95cbf",
   "metadata": {},
   "source": [
    "37. Develop a program that calculates the nth term of the Fibonacci sequence using memoization."
   ]
  },
  {
   "cell_type": "code",
   "execution_count": 10,
   "id": "c18a6aa9-0eb1-44d5-b1be-28e179dbf2ad",
   "metadata": {},
   "outputs": [
    {
     "name": "stdout",
     "output_type": "stream",
     "text": [
      "Fibonacci Sequence Calculator\n"
     ]
    },
    {
     "name": "stdin",
     "output_type": "stream",
     "text": [
      "Enter the term number (n):  10\n"
     ]
    },
    {
     "name": "stdout",
     "output_type": "stream",
     "text": [
      "The 10th term of the Fibonacci sequence is 55.\n"
     ]
    }
   ],
   "source": [
    "def fibonacci(n, memo={}):\n",
    "    \"\"\"Calculate the nth term of the Fibonacci sequence using memoization.\"\"\"\n",
    "    # Check if the value is already in the memo dictionary\n",
    "    if n in memo:\n",
    "        return memo[n]\n",
    "    \n",
    "    # Base cases\n",
    "    if n <= 0:\n",
    "        return 0\n",
    "    elif n == 1:\n",
    "        return 1\n",
    "    \n",
    "    # Recursive case with memoization\n",
    "    memo[n] = fibonacci(n - 1, memo) + fibonacci(n - 2, memo)\n",
    "    return memo[n]\n",
    "\n",
    "def main():\n",
    "    print(\"Fibonacci Sequence Calculator\")\n",
    "    \n",
    "    # Get user input\n",
    "    try:\n",
    "        n = int(input(\"Enter the term number (n): \"))\n",
    "        if n < 0:\n",
    "            raise ValueError(\"Term number must be a non-negative integer.\")\n",
    "    except ValueError as e:\n",
    "        print(f\"Invalid input: {e}\")\n",
    "        return\n",
    "    \n",
    "    # Calculate nth Fibonacci number\n",
    "    result = fibonacci(n)\n",
    "    \n",
    "    # Display result\n",
    "    print(f\"The {n}th term of the Fibonacci sequence is {result}.\")\n",
    "\n",
    "# Example usage\n",
    "main()\n"
   ]
  },
  {
   "cell_type": "markdown",
   "id": "7c158481-f6ac-45fa-b3d8-ff62f9a5db00",
   "metadata": {},
   "source": [
    "38. Create a program that generates a calendar for a given month and year using conditional statements."
   ]
  },
  {
   "cell_type": "code",
   "execution_count": 11,
   "id": "96fd4f97-e752-43c8-8945-1d5cc18be5b6",
   "metadata": {},
   "outputs": [
    {
     "name": "stdout",
     "output_type": "stream",
     "text": [
      "Calendar Generator\n"
     ]
    },
    {
     "name": "stdin",
     "output_type": "stream",
     "text": [
      "Enter the year (e.g., 2024):  2024\n",
      "Enter the month (1-12):  8\n"
     ]
    },
    {
     "name": "stdout",
     "output_type": "stream",
     "text": [
      "    August 2024\n",
      "Mo Tu We Th Fr Sa Su\n",
      "          1  2  3  4\n",
      " 5  6  7  8  9 10 11\n",
      "12 13 14 15 16 17 18\n",
      "19 20 21 22 23 24 25\n",
      "26 27 28 29 30 31\n",
      "\n"
     ]
    }
   ],
   "source": [
    "import calendar\n",
    "\n",
    "def print_calendar(month, year):\n",
    "    \"\"\"Print the calendar for a specific month and year.\"\"\"\n",
    "    # Check if the year is valid\n",
    "    if year < 1:\n",
    "        raise ValueError(\"Year must be a positive integer.\")\n",
    "    \n",
    "    # Check if the month is valid\n",
    "    if month < 1 or month > 12:\n",
    "        raise ValueError(\"Month must be between 1 and 12.\")\n",
    "    \n",
    "    # Generate and print the calendar for the month and year\n",
    "    print(calendar.month(year, month))\n",
    "\n",
    "def main():\n",
    "    print(\"Calendar Generator\")\n",
    "    \n",
    "    # Get user input\n",
    "    try:\n",
    "        year = int(input(\"Enter the year (e.g., 2024): \"))\n",
    "        month = int(input(\"Enter the month (1-12): \"))\n",
    "        if year < 1 or month < 1 or month > 12:\n",
    "            raise ValueError(\"Invalid year or month.\")\n",
    "    except ValueError as e:\n",
    "        print(f\"Invalid input: {e}\")\n",
    "        return\n",
    "    \n",
    "    # Print the calendar\n",
    "    print_calendar(month, year)\n",
    "\n",
    "# Example usage\n",
    "main()\n"
   ]
  },
  {
   "cell_type": "markdown",
   "id": "4b26e2c4-73d3-406d-bc78-cddf2b322005",
   "metadata": {},
   "source": [
    "39. Build a program that simulates a basic text-based blackjack game against the computer."
   ]
  },
  {
   "cell_type": "code",
   "execution_count": 12,
   "id": "814f3ac2-0f3d-43ea-9e19-0e53d6c0d328",
   "metadata": {},
   "outputs": [
    {
     "name": "stdout",
     "output_type": "stream",
     "text": [
      "Welcome to Blackjack!\n",
      "Player's hand: 9 of Spades, 4 of Spades (Value: 13)\n"
     ]
    },
    {
     "name": "stdin",
     "output_type": "stream",
     "text": [
      "Do you want to (H)it or (S)tand?  H\n"
     ]
    },
    {
     "name": "stdout",
     "output_type": "stream",
     "text": [
      "Player's hand: 9 of Spades, 4 of Spades, 5 of Spades (Value: 18)\n"
     ]
    },
    {
     "name": "stdin",
     "output_type": "stream",
     "text": [
      "Do you want to (H)it or (S)tand?  S\n"
     ]
    },
    {
     "name": "stdout",
     "output_type": "stream",
     "text": [
      "Player's hand: 9 of Spades, 4 of Spades, 5 of Spades (Value: 18)\n",
      "Dealer's hand: 6 of Clubs, 10 of Spades, 5 of Hearts (Value: 21)\n",
      "Dealer wins!\n"
     ]
    }
   ],
   "source": [
    "import random\n",
    "\n",
    "# Define card values\n",
    "card_values = {\n",
    "    '2': 2, '3': 3, '4': 4, '5': 5, '6': 6, '7': 7, '8': 8, '9': 9,\n",
    "    '10': 10, 'J': 10, 'Q': 10, 'K': 10, 'A': 11\n",
    "}\n",
    "\n",
    "# Define deck of cards\n",
    "suits = ['Hearts', 'Diamonds', 'Clubs', 'Spades']\n",
    "cards = [f'{value} of {suit}' for suit in suits for value in card_values]\n",
    "\n",
    "def deal_card(deck):\n",
    "    \"\"\"Deal a card from the deck.\"\"\"\n",
    "    return deck.pop(random.randint(0, len(deck) - 1))\n",
    "\n",
    "def calculate_hand_value(hand):\n",
    "    \"\"\"Calculate the value of a hand.\"\"\"\n",
    "    value = sum(card_values[card.split(' ')[0]] for card in hand)\n",
    "    # Adjust for Aces if needed\n",
    "    num_aces = sum(1 for card in hand if card.startswith('A'))\n",
    "    while value > 21 and num_aces:\n",
    "        value -= 10\n",
    "        num_aces -= 1\n",
    "    return value\n",
    "\n",
    "def print_hand(player, hand):\n",
    "    \"\"\"Print the player's hand.\"\"\"\n",
    "    print(f\"{player}'s hand: {', '.join(hand)} (Value: {calculate_hand_value(hand)})\")\n",
    "\n",
    "def main():\n",
    "    print(\"Welcome to Blackjack!\")\n",
    "    \n",
    "    # Initialize deck and hands\n",
    "    deck = cards.copy()\n",
    "    random.shuffle(deck)\n",
    "    \n",
    "    # Deal initial hands\n",
    "    player_hand = [deal_card(deck), deal_card(deck)]\n",
    "    dealer_hand = [deal_card(deck), deal_card(deck)]\n",
    "    \n",
    "    # Player's turn\n",
    "    while True:\n",
    "        print_hand('Player', player_hand)\n",
    "        if calculate_hand_value(player_hand) > 21:\n",
    "            print(\"Player busts! Dealer wins.\")\n",
    "            return\n",
    "        \n",
    "        move = input(\"Do you want to (H)it or (S)tand? \").strip().upper()\n",
    "        if move == 'H':\n",
    "            player_hand.append(deal_card(deck))\n",
    "        elif move == 'S':\n",
    "            break\n",
    "        else:\n",
    "            print(\"Invalid input. Please enter 'H' to hit or 'S' to stand.\")\n",
    "    \n",
    "    # Dealer's turn\n",
    "    while calculate_hand_value(dealer_hand) < 17:\n",
    "        dealer_hand.append(deal_card(deck))\n",
    "    \n",
    "    # Print final hands and results\n",
    "    print_hand('Player', player_hand)\n",
    "    print_hand('Dealer', dealer_hand)\n",
    "    \n",
    "    player_value = calculate_hand_value(player_hand)\n",
    "    dealer_value = calculate_hand_value(dealer_hand)\n",
    "    \n",
    "    if dealer_value > 21:\n",
    "        print(\"Dealer busts! Player wins.\")\n",
    "    elif player_value > dealer_value:\n",
    "        print(\"Player wins!\")\n",
    "    elif player_value < dealer_value:\n",
    "        print(\"Dealer wins!\")\n",
    "    else:\n",
    "        print(\"It's a draw!\")\n",
    "\n",
    "# Example usage\n",
    "main()\n"
   ]
  },
  {
   "cell_type": "markdown",
   "id": "75edde5b-ed5b-48cb-aa8c-f315c92833ec",
   "metadata": {},
   "source": [
    "40. Write a program that generates the prime factors of a given number using trial division."
   ]
  },
  {
   "cell_type": "code",
   "execution_count": 13,
   "id": "a86ebec7-515a-4336-9fec-20a6773068a1",
   "metadata": {},
   "outputs": [
    {
     "name": "stdout",
     "output_type": "stream",
     "text": [
      "Prime Factor Generator\n"
     ]
    },
    {
     "name": "stdin",
     "output_type": "stream",
     "text": [
      "Enter a positive integer:  60\n"
     ]
    },
    {
     "name": "stdout",
     "output_type": "stream",
     "text": [
      "Prime factors of 60: [2, 2, 3, 5]\n"
     ]
    }
   ],
   "source": [
    "def prime_factors(n):\n",
    "    \"\"\"Generate the prime factors of a given number using trial division.\"\"\"\n",
    "    factors = []\n",
    "    \n",
    "    # Handle the factor of 2 first\n",
    "    while n % 2 == 0:\n",
    "        factors.append(2)\n",
    "        n //= 2\n",
    "    \n",
    "    # Handle odd factors from 3 upwards\n",
    "    divisor = 3\n",
    "    while divisor * divisor <= n:\n",
    "        while n % divisor == 0:\n",
    "            factors.append(divisor)\n",
    "            n //= divisor\n",
    "        divisor += 2\n",
    "    \n",
    "    # If n is still greater than 2, it must be a prime number\n",
    "    if n > 2:\n",
    "        factors.append(n)\n",
    "    \n",
    "    return factors\n",
    "\n",
    "def main():\n",
    "    print(\"Prime Factor Generator\")\n",
    "    \n",
    "    # Get user input\n",
    "    try:\n",
    "        number = int(input(\"Enter a positive integer: \"))\n",
    "        if number <= 0:\n",
    "            raise ValueError(\"The number must be a positive integer.\")\n",
    "    except ValueError as e:\n",
    "        print(f\"Invalid input: {e}\")\n",
    "        return\n",
    "    \n",
    "    # Generate prime factors\n",
    "    factors = prime_factors(number)\n",
    "    \n",
    "    # Display results\n",
    "    print(f\"Prime factors of {number}: {factors}\")\n",
    "\n",
    "# Example usage\n",
    "main()\n"
   ]
  },
  {
   "cell_type": "code",
   "execution_count": null,
   "id": "4a4c4eb5-7bc1-4e6f-8d39-43a8bed80115",
   "metadata": {},
   "outputs": [],
   "source": []
  }
 ],
 "metadata": {
  "kernelspec": {
   "display_name": "Python 3 (ipykernel)",
   "language": "python",
   "name": "python3"
  },
  "language_info": {
   "codemirror_mode": {
    "name": "ipython",
    "version": 3
   },
   "file_extension": ".py",
   "mimetype": "text/x-python",
   "name": "python",
   "nbconvert_exporter": "python",
   "pygments_lexer": "ipython3",
   "version": "3.12.1"
  }
 },
 "nbformat": 4,
 "nbformat_minor": 5
}
